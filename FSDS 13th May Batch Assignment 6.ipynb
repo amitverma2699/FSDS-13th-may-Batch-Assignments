{
 "cells": [
  {
   "cell_type": "markdown",
   "id": "fb56d58d",
   "metadata": {},
   "source": [
    "Question 1. What are keywords in python? Using the keyword library, print all the python keywords."
   ]
  },
  {
   "cell_type": "markdown",
   "id": "1a02a47a",
   "metadata": {},
   "source": [
    "Ans. The python keywords are reserved words that have special meanings and are used to define the structure and behavior of Python code. "
   ]
  },
  {
   "cell_type": "code",
   "execution_count": 1,
   "id": "0f2d2c87",
   "metadata": {},
   "outputs": [
    {
     "name": "stdout",
     "output_type": "stream",
     "text": [
      "['False', 'None', 'True', 'and', 'as', 'assert', 'async', 'await', 'break', 'class', 'continue', 'def', 'del', 'elif', 'else', 'except', 'finally', 'for', 'from', 'global', 'if', 'import', 'in', 'is', 'lambda', 'nonlocal', 'not', 'or', 'pass', 'raise', 'return', 'try', 'while', 'with', 'yield']\n"
     ]
    }
   ],
   "source": [
    "import keyword\n",
    "keywords=keyword.kwlist\n",
    "print(keywords)"
   ]
  },
  {
   "cell_type": "markdown",
   "id": "2cd88972",
   "metadata": {},
   "source": [
    "Question 2. What are the rules to create variables in python?"
   ]
  },
  {
   "cell_type": "code",
   "execution_count": 2,
   "id": "664b5f72",
   "metadata": {},
   "outputs": [],
   "source": [
    "# A variable must start with a letter or the underscore character\n",
    "# A variable cannot start with a number\n",
    "# A variable can only contain alpha-numeric characters and underscores (A-z, 0-9, and _ )\n",
    "# A variable are case-sensitive (age, Age and AGE are three different variables)\n",
    "# A variable cannot be any of the Python keywords."
   ]
  },
  {
   "cell_type": "markdown",
   "id": "58e86e78",
   "metadata": {},
   "source": [
    "Question 3. What are the standards and conventions followed for the nomenclature of variables in\n",
    "python to improve code readability and maintainability\n",
    "\n",
    "Ans. Use grammatically correct variable names, the class name should start with an uppercase and must follow camelCase convention If more than two words are to be used. In the same way, a function name should be joined with an underscore, and it must be lowercase."
   ]
  },
  {
   "cell_type": "markdown",
   "id": "c0244e5c",
   "metadata": {},
   "source": [
    "Question 4. What will happen if a keyword is used as a variable name ?\n",
    "\n",
    "Ans. It shows SyntaxError."
   ]
  },
  {
   "cell_type": "code",
   "execution_count": 3,
   "id": "4165c5b2",
   "metadata": {},
   "outputs": [
    {
     "ename": "SyntaxError",
     "evalue": "cannot assign to True (3290492262.py, line 1)",
     "output_type": "error",
     "traceback": [
      "\u001b[1;36m  Cell \u001b[1;32mIn[3], line 1\u001b[1;36m\u001b[0m\n\u001b[1;33m    True=[1,2,3,4]\u001b[0m\n\u001b[1;37m    ^\u001b[0m\n\u001b[1;31mSyntaxError\u001b[0m\u001b[1;31m:\u001b[0m cannot assign to True\n"
     ]
    }
   ],
   "source": [
    "True=[1,2,3,4]"
   ]
  },
  {
   "cell_type": "markdown",
   "id": "628723fd",
   "metadata": {},
   "source": [
    "Question 5. For what purpose def keyword is used?\n",
    "\n",
    "Ans. def keyword define a function. It is placed before a function name that is provided by the user to create a user-defined function."
   ]
  },
  {
   "cell_type": "markdown",
   "id": "43f4cbf2",
   "metadata": {},
   "source": [
    "Question 6. What is the operation of this special character ‘\\’?\n",
    "\n",
    "Ans. '\\' Represents a single quote within a single-quoted string."
   ]
  },
  {
   "cell_type": "markdown",
   "id": "f3db19ea",
   "metadata": {},
   "source": [
    "Question 7. Give an example of the following conditions:\n",
    "(i) Homogeneous list\n",
    "(ii) Heterogeneous set\n",
    "(iii) Homogeneous tuple"
   ]
  },
  {
   "cell_type": "code",
   "execution_count": 4,
   "id": "cedfe277",
   "metadata": {},
   "outputs": [],
   "source": [
    "# 1. Homogeneous list\n",
    "\n",
    "homo_list=[1,2,3,4,5]"
   ]
  },
  {
   "cell_type": "code",
   "execution_count": 5,
   "id": "9613c4d9",
   "metadata": {},
   "outputs": [],
   "source": [
    "# 2. Hetrogeneous set\n",
    "\n",
    "hetro_set={10,\"iNeuron\",True,32.45,6+3j}"
   ]
  },
  {
   "cell_type": "code",
   "execution_count": 6,
   "id": "d26aa8f5",
   "metadata": {},
   "outputs": [],
   "source": [
    "# 3. Homogeneous tuple\n",
    "\n",
    "homo_tuple=('krish','sudhanshu','sunny')"
   ]
  },
  {
   "cell_type": "markdown",
   "id": "b63362fe",
   "metadata": {},
   "source": [
    "Question 8 Explain the mutable and immutable data types with proper explanation & examples "
   ]
  },
  {
   "cell_type": "markdown",
   "id": "ae40d8b1",
   "metadata": {},
   "source": [
    "Ans. 1. Mutable data types are those data types in which value can be changed.  Mutable datatypes are List,Dictionary,set."
   ]
  },
  {
   "cell_type": "markdown",
   "id": "303e2e8d",
   "metadata": {},
   "source": [
    "2. Immutable data types are those data types in which value cannot be changed. Immutable data types are tuples."
   ]
  },
  {
   "cell_type": "code",
   "execution_count": 7,
   "id": "97fa7864",
   "metadata": {},
   "outputs": [
    {
     "name": "stdout",
     "output_type": "stream",
     "text": [
      "[1, 2, 3, 4, 5]\n"
     ]
    }
   ],
   "source": [
    "# List\n",
    "l1=[1,2,3,4,5]\n",
    "print(l1)"
   ]
  },
  {
   "cell_type": "code",
   "execution_count": 8,
   "id": "d41c979f",
   "metadata": {},
   "outputs": [
    {
     "name": "stdout",
     "output_type": "stream",
     "text": [
      "[1, 2, 3, 'Amit', 5]\n"
     ]
    }
   ],
   "source": [
    "l1[3]=\"Amit\" #  In this 4 will be replace with Amit\n",
    "print(l1)"
   ]
  },
  {
   "cell_type": "code",
   "execution_count": 9,
   "id": "533966b7",
   "metadata": {},
   "outputs": [
    {
     "name": "stdout",
     "output_type": "stream",
     "text": [
      "{'Name': 'Amit', 'Age': 23, 'Course': 'Full Stack Web Devlopment'}\n"
     ]
    }
   ],
   "source": [
    "# Dictionary\n",
    "d1={\"Name\":\"Amit\",\"Age\":23,\"Course\":\"Full Stack Web Devlopment\"}\n",
    "print(d1)"
   ]
  },
  {
   "cell_type": "code",
   "execution_count": 10,
   "id": "c9e90bdc",
   "metadata": {},
   "outputs": [
    {
     "name": "stdout",
     "output_type": "stream",
     "text": [
      "{'Name': 'Amit', 'Age': 23, 'Course': 'Full Stack Data Science Masters'}\n"
     ]
    }
   ],
   "source": [
    "d1['Course']=\"Full Stack Data Science Masters\"\n",
    "print(d1)"
   ]
  },
  {
   "cell_type": "code",
   "execution_count": 11,
   "id": "2578d2ec",
   "metadata": {},
   "outputs": [],
   "source": [
    "# Sets\n",
    "s1={1,2,10,20,30}"
   ]
  },
  {
   "cell_type": "code",
   "execution_count": 12,
   "id": "99c16bb7",
   "metadata": {},
   "outputs": [],
   "source": [
    "s1.add(\"iNeuron\")"
   ]
  },
  {
   "cell_type": "code",
   "execution_count": 13,
   "id": "68cb362e",
   "metadata": {},
   "outputs": [
    {
     "data": {
      "text/plain": [
       "{1, 10, 2, 20, 30, 'iNeuron'}"
      ]
     },
     "execution_count": 13,
     "metadata": {},
     "output_type": "execute_result"
    }
   ],
   "source": [
    "s1"
   ]
  },
  {
   "cell_type": "code",
   "execution_count": 14,
   "id": "f8b825f3",
   "metadata": {},
   "outputs": [
    {
     "name": "stdout",
     "output_type": "stream",
     "text": [
      "(1, 22, 'sam', True)\n"
     ]
    }
   ],
   "source": [
    "# Tuple\n",
    "t1=(1,22,\"sam\",True)\n",
    "print(t1)"
   ]
  },
  {
   "cell_type": "code",
   "execution_count": 15,
   "id": "f2acc777",
   "metadata": {},
   "outputs": [
    {
     "ename": "TypeError",
     "evalue": "'tuple' object does not support item assignment",
     "output_type": "error",
     "traceback": [
      "\u001b[1;31m---------------------------------------------------------------------------\u001b[0m",
      "\u001b[1;31mTypeError\u001b[0m                                 Traceback (most recent call last)",
      "Cell \u001b[1;32mIn[15], line 1\u001b[0m\n\u001b[1;32m----> 1\u001b[0m t1[\u001b[38;5;241m1\u001b[39m]\u001b[38;5;241m=\u001b[39m\u001b[38;5;241m10\u001b[39m\n",
      "\u001b[1;31mTypeError\u001b[0m: 'tuple' object does not support item assignment"
     ]
    }
   ],
   "source": [
    "t1[1]=10 # It shows TypeError"
   ]
  },
  {
   "cell_type": "markdown",
   "id": "a50d4783",
   "metadata": {},
   "source": [
    "Q.9. Write a code to create the given structure using only for loop.\n",
    "        *\n",
    "       ***\n",
    "      *****\n",
    "     *******\n",
    "    *********"
   ]
  },
  {
   "cell_type": "code",
   "execution_count": 16,
   "id": "fbe4e686",
   "metadata": {},
   "outputs": [
    {
     "name": "stdout",
     "output_type": "stream",
     "text": [
      "    *\n",
      "   ***\n",
      "  *****\n",
      " *******\n",
      "*********\n"
     ]
    }
   ],
   "source": [
    "n = 5\n",
    "\n",
    "for i in range(1, n + 1):\n",
    "    for j in range(n - i):\n",
    "        print(\" \", end=\"\")\n",
    "        \n",
    "    for k in range(2 * i - 1):\n",
    "        print(\"*\", end=\"\")\n",
    "\n",
    "    print()\n"
   ]
  },
  {
   "cell_type": "markdown",
   "id": "f2557f43",
   "metadata": {},
   "source": [
    "Question . Write a code to create the given structure using while loop.\n",
    "        |||||||||\n",
    "         |||||||\n",
    "          |||||\n",
    "           |||\n",
    "            |"
   ]
  },
  {
   "cell_type": "code",
   "execution_count": 17,
   "id": "bfa7557f",
   "metadata": {},
   "outputs": [
    {
     "name": "stdout",
     "output_type": "stream",
     "text": [
      "|||||||||\n",
      "|||||||\n",
      "|||||\n",
      "|||\n",
      "|\n"
     ]
    }
   ],
   "source": [
    "n = 9 \n",
    "\n",
    "while n > 0:\n",
    "    i = 1\n",
    "    while i <= n:\n",
    "        print(\"|\", end=\"\")\n",
    "        i += 1\n",
    "    print()\n",
    "    n -= 2\n"
   ]
  }
 ],
 "metadata": {
  "kernelspec": {
   "display_name": "Python 3 (ipykernel)",
   "language": "python",
   "name": "python3"
  },
  "language_info": {
   "codemirror_mode": {
    "name": "ipython",
    "version": 3
   },
   "file_extension": ".py",
   "mimetype": "text/x-python",
   "name": "python",
   "nbconvert_exporter": "python",
   "pygments_lexer": "ipython3",
   "version": "3.11.4"
  }
 },
 "nbformat": 4,
 "nbformat_minor": 5
}
