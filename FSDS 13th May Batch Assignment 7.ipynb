{
 "cells": [
  {
   "cell_type": "markdown",
   "id": "c612af57",
   "metadata": {},
   "source": [
    "Qustion 1. Create two int type variables, apply addition, subtraction, division and multiplications\n",
    "and store the results in variables. Then print the data in the following format by calling the\n",
    "variables:\n",
    "First variable is __ & second variable is __.\n",
    "Addition: __ + __ = __\n",
    "Subtraction: __ - __ = __\n",
    "Multiplication: __ * __ = __\n",
    "Division: __ / __ = __"
   ]
  },
  {
   "cell_type": "code",
   "execution_count": 3,
   "id": "da947897",
   "metadata": {},
   "outputs": [
    {
     "name": "stdout",
     "output_type": "stream",
     "text": [
      "10\n",
      "5\n",
      "First variable is 10 & second variable is 5\n",
      "Addition: 10 + 5 = 15\n",
      "Subtraction: 10 - 5 = 5\n",
      "Multiplication: a * b = 50\n",
      "Division: 10 / 5 = 2.0\n"
     ]
    }
   ],
   "source": [
    "a=int(input())\n",
    "b=int(input())\n",
    "\n",
    "print(f\"First variable is {a} & second variable is {b}\")\n",
    "\n",
    "print(f\"Addition: {a} + {b} = {a+b}\")\n",
    "print(f\"Subtraction: {a} - {b} = {a-b}\")\n",
    "print(f\"Multiplication: a * b = {a*b}\")\n",
    "print(f\"Division: {a} / {b} = {a/b}\")"
   ]
  },
  {
   "cell_type": "markdown",
   "id": "08625b09",
   "metadata": {},
   "source": [
    "Question 2. What is the difference between the following operators:\n",
    "(i) ‘/’ & ‘//’\n",
    "(ii) ‘**’ & ‘^’"
   ]
  },
  {
   "cell_type": "code",
   "execution_count": 5,
   "id": "a85528bd",
   "metadata": {},
   "outputs": [
    {
     "name": "stdout",
     "output_type": "stream",
     "text": [
      "2.5\n",
      "2\n"
     ]
    }
   ],
   "source": [
    "# (i) ‘/’ & ‘//’\n",
    "\n",
    "ans1 = 5 / 2  \n",
    "ans2 = 5 // 2  \n",
    "print(ans1)  # Result is a float\n",
    "print(ans2)  # Result is an integer\n"
   ]
  },
  {
   "cell_type": "code",
   "execution_count": 7,
   "id": "6e4a6a77",
   "metadata": {},
   "outputs": [
    {
     "name": "stdout",
     "output_type": "stream",
     "text": [
      "8\n",
      "1\n"
     ]
    }
   ],
   "source": [
    "# (ii) ‘**’ & ‘^’\n",
    "\n",
    "answer1 = 2 ** 3  \n",
    "answer2 = 2 ^ 3   \n",
    "\n",
    "print(answer1)  # 2 raised to the power of 3 (2*2*2)\n",
    "print(answer2)  # bitwise XOR of binary 10 and 11"
   ]
  },
  {
   "cell_type": "markdown",
   "id": "cdb11a19",
   "metadata": {},
   "source": [
    "Question 3. List the logical operators.\n",
    "\n",
    "Ans. AND, OR, NOT"
   ]
  },
  {
   "cell_type": "markdown",
   "id": "1da228a9",
   "metadata": {},
   "source": [
    "Question 4. Explain right shift operator and left shift operator with examples."
   ]
  },
  {
   "cell_type": "code",
   "execution_count": 11,
   "id": "dbf43a90",
   "metadata": {},
   "outputs": [
    {
     "name": "stdout",
     "output_type": "stream",
     "text": [
      "4\n"
     ]
    }
   ],
   "source": [
    "# Right Shift operator\n",
    "\"The right shift operator (>>) shifts the bits of an integer to the right by a specified number of positions.\"\n",
    "\n",
    "x = 8\n",
    "sol = x >> 1\n",
    "print(sol)"
   ]
  },
  {
   "cell_type": "code",
   "execution_count": 12,
   "id": "6de3c7c6",
   "metadata": {},
   "outputs": [
    {
     "name": "stdout",
     "output_type": "stream",
     "text": [
      "32\n"
     ]
    }
   ],
   "source": [
    "# Left Shift operator\n",
    "\"The left shift operator (<<) shifts the bits of an integer to the left by a specified number of positions.\"\n",
    "\n",
    "x = 8\n",
    "sol1 = x << 2\n",
    "print(sol1)"
   ]
  },
  {
   "cell_type": "markdown",
   "id": "afd74c30",
   "metadata": {},
   "source": [
    "Question 5. Create a list containing int type data of length 15. Then write a code to check if 10 is\n",
    "present in the list or not."
   ]
  },
  {
   "cell_type": "code",
   "execution_count": 18,
   "id": "6f0dbf43",
   "metadata": {},
   "outputs": [
    {
     "name": "stdout",
     "output_type": "stream",
     "text": [
      "Length of age 15\n",
      "  \n",
      "10 is not Present in the list age\n"
     ]
    }
   ],
   "source": [
    "# Ans.\n",
    "\n",
    "age=[11,14,16,18,23,12,24,34,32,13,15,17,20,30,27]\n",
    "length=len(age)\n",
    "print(\"Length of age\",length)\n",
    "print(\"  \")\n",
    "if 10 in age:\n",
    "    print(\"10 is Present in the list age\")\n",
    "else:\n",
    "    print(\"10 is not Present in the list age\")"
   ]
  }
 ],
 "metadata": {
  "kernelspec": {
   "display_name": "Python 3 (ipykernel)",
   "language": "python",
   "name": "python3"
  },
  "language_info": {
   "codemirror_mode": {
    "name": "ipython",
    "version": 3
   },
   "file_extension": ".py",
   "mimetype": "text/x-python",
   "name": "python",
   "nbconvert_exporter": "python",
   "pygments_lexer": "ipython3",
   "version": "3.11.4"
  }
 },
 "nbformat": 4,
 "nbformat_minor": 5
}
