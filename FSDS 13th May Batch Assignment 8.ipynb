{
 "cells": [
  {
   "cell_type": "markdown",
   "id": "297fc4a3",
   "metadata": {},
   "source": [
    "Question 1. In Python, what is the difference between a built-in function and a user-defined function? Provide an\n",
    "example of each."
   ]
  },
  {
   "cell_type": "code",
   "execution_count": null,
   "id": "a7bf5256",
   "metadata": {},
   "outputs": [],
   "source": [
    "#Ans. \n",
    "# Built-in Function\n",
    "\"\"\"\n",
    "A built-in function is a function that is included in the Python standard library \n",
    "and is available for use without the need for additional imports. \n",
    "These functions are part of the core Python language and cover a wide range of tasks,\n",
    "such as mathematical operations, string manipulation, input/output, and more.\n",
    "\"\"\"\n",
    "\n",
    "# User Defined Function\n",
    "\"\"\"\n",
    "A user-defined function is a function created by the programmer to perform a specific task.\n",
    "These functions are defined by the user to modularize code,\n",
    "improve code readability, and reuse code segments.\n",
    "\"\"\""
   ]
  },
  {
   "cell_type": "code",
   "execution_count": 3,
   "id": "f251e01b",
   "metadata": {},
   "outputs": [
    {
     "name": "stdout",
     "output_type": "stream",
     "text": [
      "Length of the string: 29\n"
     ]
    }
   ],
   "source": [
    "# Example of Built in Function:\n",
    "\n",
    "my_info = \"I am a Student of FSDSM Batch\"\n",
    "strength = len(my_info)\n",
    "print(\"Length of the string:\", strength)"
   ]
  },
  {
   "cell_type": "code",
   "execution_count": 4,
   "id": "92ac72ef",
   "metadata": {},
   "outputs": [
    {
     "name": "stdout",
     "output_type": "stream",
     "text": [
      "Sum of 5 and 3: 8\n"
     ]
    }
   ],
   "source": [
    "# Example of User-Defined Function:\n",
    "\n",
    "def add_numbers(a,b):\n",
    "    result = a + b\n",
    "    return result\n",
    "\n",
    "# Using the user-defined function\n",
    "\n",
    "sum_result = add_numbers(5, 3)\n",
    "print(\"Sum of 5 and 3:\", sum_result)"
   ]
  },
  {
   "cell_type": "markdown",
   "id": "203dfd74",
   "metadata": {},
   "source": [
    "Question 2. How can you pass arguments to a function in Python? Explain the difference between positional\n",
    "arguments and keyword arguments."
   ]
  },
  {
   "cell_type": "markdown",
   "id": "8287ee33",
   "metadata": {},
   "source": [
    "#Ans.\n",
    "You can pass arguments to a function in two main ways: positional arguments and keyword arguments.\n"
   ]
  },
  {
   "cell_type": "code",
   "execution_count": 8,
   "id": "2c3bc8f3",
   "metadata": {},
   "outputs": [
    {
     "name": "stdout",
     "output_type": "stream",
     "text": [
      "Amit interested in Data Science\n"
     ]
    }
   ],
   "source": [
    "# 1. Positional Arguments:\n",
    "\"\"\"\n",
    "Positional arguments are passed to a function in the order in which they are listed in the function's definition.\n",
    "The values are assigned to parameters based on their position.\n",
    "\"\"\"\n",
    "def greet(name, interest):\n",
    "    print(f\"{name} interested in {interest}\")\n",
    "\n",
    "greet(\"Amit\", \"Data Science\")"
   ]
  },
  {
   "cell_type": "code",
   "execution_count": 9,
   "id": "7a41c323",
   "metadata": {},
   "outputs": [
    {
     "name": "stdout",
     "output_type": "stream",
     "text": [
      "Amit interested in Data Science\n"
     ]
    }
   ],
   "source": [
    "# 2. Keyword Arguments:\n",
    "\"\"\"\n",
    "Keyword arguments are passed to a function using the parameter names.\n",
    "The values are assigned to parameters based on their names, allowing you to pass arguments out of order.\n",
    "\"\"\"\n",
    "def greet(name, interest):\n",
    "    print(f\"{name} interested in {interest}\")\n",
    "\n",
    "greet(name=\"Amit\", interest=\"Data Science\")"
   ]
  },
  {
   "cell_type": "markdown",
   "id": "687f7bca",
   "metadata": {},
   "source": [
    "Question 3.What is the purpose of the return statement in a function? Can a function have multiple return\n",
    "statements? Explain with an example."
   ]
  },
  {
   "cell_type": "markdown",
   "id": "4d493d63",
   "metadata": {},
   "source": [
    "#Ans.\n",
    "It provides the output or result of a function.It terminates the execution of the function, exiting the function's block of code.It can be used to exit a function prematurely if needed.Yes, a function can have multiple return statements."
   ]
  },
  {
   "cell_type": "code",
   "execution_count": 10,
   "id": "36eb3bdf",
   "metadata": {},
   "outputs": [],
   "source": [
    "# Example of multiple return statements\n",
    "\n",
    "def absolute_value(number):\n",
    "    if number < 0:\n",
    "        return -number  \n",
    "    elif number > 0:\n",
    "        return number   \n",
    "    else:\n",
    "        return 0"
   ]
  },
  {
   "cell_type": "code",
   "execution_count": 11,
   "id": "e728cb1b",
   "metadata": {},
   "outputs": [
    {
     "name": "stdout",
     "output_type": "stream",
     "text": [
      "Absolute value of -5: 5\n"
     ]
    }
   ],
   "source": [
    "result1 = absolute_value(-5)\n",
    "print(\"Absolute value of -5:\", result1)  "
   ]
  },
  {
   "cell_type": "code",
   "execution_count": 12,
   "id": "2f88e465",
   "metadata": {},
   "outputs": [
    {
     "name": "stdout",
     "output_type": "stream",
     "text": [
      "Absolute value of 7: 7\n"
     ]
    }
   ],
   "source": [
    "result2 = absolute_value(7)\n",
    "print(\"Absolute value of 7:\", result2)"
   ]
  },
  {
   "cell_type": "code",
   "execution_count": 13,
   "id": "58a6eb1c",
   "metadata": {},
   "outputs": [
    {
     "name": "stdout",
     "output_type": "stream",
     "text": [
      "Absolute value of 0: 0\n"
     ]
    }
   ],
   "source": [
    "result3 = absolute_value(0)\n",
    "print(\"Absolute value of 0:\", result3)"
   ]
  },
  {
   "cell_type": "markdown",
   "id": "8ca2be6e",
   "metadata": {},
   "source": [
    "Question 4. What are lambda functions in Python? How are they different from regular functions? Provide an\n",
    "example where a lambda function can be useful"
   ]
  },
  {
   "cell_type": "markdown",
   "id": "912cf797",
   "metadata": {},
   "source": [
    "#Ans.\n",
    "Lambda functions, also known as anonymous functions or lambda expressions, are a concise way to create small, unnamed functions in Python. They are defined using the lambda keyword. Lambda fuction is different from regular function because regular function use def but lambda function cannot use any name it is nameless."
   ]
  },
  {
   "cell_type": "code",
   "execution_count": 4,
   "id": "6bd3711c",
   "metadata": {},
   "outputs": [],
   "source": [
    "# Example of lambda function \n",
    "\n",
    "# Using a lambda function to create a simple calculator\n",
    "add = lambda x, y: x + y\n",
    "subtract = lambda x, y: x - y\n",
    "multiply = lambda x, y: x * y\n",
    "divide = lambda x, y: x / y "
   ]
  },
  {
   "cell_type": "code",
   "execution_count": 6,
   "id": "8db01c39",
   "metadata": {},
   "outputs": [
    {
     "name": "stdout",
     "output_type": "stream",
     "text": [
      "Addition: 8\n",
      "Subtraction: 3\n",
      "Multiplication: 12\n",
      "Division: 5.0\n",
      "Division: 4.0\n"
     ]
    }
   ],
   "source": [
    "# Examples of using the calculator\n",
    "print(\"Addition:\", add(5, 3))\n",
    "print(\"Subtraction:\", subtract(7, 4))\n",
    "print(\"Multiplication:\", multiply(2, 6))\n",
    "print(\"Division:\", divide(10, 2))\n",
    "print(\"Division:\", divide(8, 2))"
   ]
  },
  {
   "cell_type": "markdown",
   "id": "c65ef93b",
   "metadata": {},
   "source": [
    "Question 5.How does the concept of \"scope\" apply to functions in Python? Explain the difference between local\n",
    "scope and global scope\n",
    "\n",
    "#Ans. The concept of \"scope\" refers to the region of the code where a variable is accessible. The scope of a variable is determined by where it is assigned, and it affects where the variable can be used or modified.\n",
    "\n",
    "The difference between local scope and globle scope\n",
    "Local scope:- Variables defined inside a function have a local scope.Local variables are only accessible within the specific function in which they are defined.\n",
    "Global sccope:- Variables defined outside of any function or block have a global scope.Global variables can be accessed from any part of the code, including functions.Global variables persist throughout the entire program."
   ]
  },
  {
   "cell_type": "code",
   "execution_count": 7,
   "id": "30561e96",
   "metadata": {},
   "outputs": [
    {
     "name": "stdout",
     "output_type": "stream",
     "text": [
      "10\n"
     ]
    }
   ],
   "source": [
    "# Example of Local Variables\n",
    "def my_function():\n",
    "    local_variable = 10\n",
    "    print(local_variable)\n",
    "    \n",
    "my_function()"
   ]
  },
  {
   "cell_type": "code",
   "execution_count": 8,
   "id": "e92c3664",
   "metadata": {},
   "outputs": [
    {
     "name": "stdout",
     "output_type": "stream",
     "text": [
      "20\n"
     ]
    }
   ],
   "source": [
    "# Example of Global Variables\n",
    "global_variable = 20\n",
    "\n",
    "def another_function():\n",
    "    print(global_variable)\n",
    "    \n",
    "another_function()"
   ]
  },
  {
   "cell_type": "markdown",
   "id": "e369bcbe",
   "metadata": {},
   "source": [
    "Question 6. How can you use the \"return\" statement in a Python function to return multiple values ?"
   ]
  },
  {
   "cell_type": "code",
   "execution_count": 9,
   "id": "6c0bf3d5",
   "metadata": {},
   "outputs": [],
   "source": [
    "def multiple_values():\n",
    "    value1 = 10\n",
    "    value2 = \"hello\"\n",
    "    value3 = [1, 2, 3]\n",
    "    return value1, value2, value3"
   ]
  },
  {
   "cell_type": "code",
   "execution_count": 10,
   "id": "a44e5c87",
   "metadata": {},
   "outputs": [
    {
     "data": {
      "text/plain": [
       "(10, 'hello', [1, 2, 3])"
      ]
     },
     "execution_count": 10,
     "metadata": {},
     "output_type": "execute_result"
    }
   ],
   "source": [
    "multiple_values()"
   ]
  },
  {
   "cell_type": "markdown",
   "id": "3ee83948",
   "metadata": {},
   "source": [
    "Question 7. What is the difference between the \"pass by value\" and \"pass by reference\" concepts when it\n",
    "comes to function arguments in Python ?"
   ]
  },
  {
   "cell_type": "markdown",
   "id": "750ebde3",
   "metadata": {},
   "source": [
    "Ans.\n",
    "#Pass by Value (Immutable Objects):\n",
    "\n",
    "For immutable objects like integers, floats, strings, and tuples, the actual value is passed to the function.\n",
    "Changes made to the parameter within the function do not affect the original object outside the function.\n",
    "\n",
    "#Pass by Object Reference (Mutable Objects):\n",
    "\n",
    "For mutable objects like lists and dictionaries, the reference to the object is passed to the function.\n",
    "Changes made to the object within the function are reflected outside the function because the object is modified in place."
   ]
  },
  {
   "cell_type": "markdown",
   "id": "b32fe3ce",
   "metadata": {},
   "source": [
    "#Question8.Create a function that can intake integer or decimal value and do following operations:\n",
    "a. Logarithmic function (log x)\n",
    "b. Exponential function (exp(x))\n",
    "c. Power function with base 2 (2**x)\n",
    "d. Square root"
   ]
  },
  {
   "cell_type": "code",
   "execution_count": 27,
   "id": "37825ce5",
   "metadata": {},
   "outputs": [
    {
     "name": "stdout",
     "output_type": "stream",
     "text": [
      "Logarithmic Function (log x): 1.3862943611198906\n",
      "Exponential Function (exp(x)): 54.598150033144236\n",
      "Power Function with Base 2 (2^x): 16.0\n",
      "Square Root: 2.0\n"
     ]
    }
   ],
   "source": [
    "import math\n",
    "\n",
    "def math_operations(x):\n",
    "    try:\n",
    "        x = float(x) \n",
    "        logarithmic_result = math.log(x)\n",
    "        exponential_result = math.exp(x)\n",
    "        power_of_two_result = 2 ** x\n",
    "        square_root_result = math.sqrt(x)\n",
    "\n",
    "        return {\n",
    "            'Logarithmic Function (log x)': logarithmic_result,\n",
    "            'Exponential Function (exp(x))': exponential_result,\n",
    "            'Power Function with Base 2 (2^x)': power_of_two_result,\n",
    "            'Square Root': square_root_result\n",
    "        }\n",
    "    except ValueError:\n",
    "        return \"Error: Invalid input. Please provide a valid numeric value.\"\n",
    "\n",
    "# Example\n",
    "input_value = 4.0\n",
    "results = math_operations(input_value)\n",
    "\n",
    "for operation, result in results.items():\n",
    "    print(f\"{operation}: {result}\")\n"
   ]
  },
  {
   "cell_type": "markdown",
   "id": "44039a02",
   "metadata": {},
   "source": [
    "Question 9. Create a function that takes a full name as an argument and returns first name and last name."
   ]
  },
  {
   "cell_type": "code",
   "execution_count": 5,
   "id": "bae6899d",
   "metadata": {},
   "outputs": [
    {
     "name": "stdout",
     "output_type": "stream",
     "text": [
      "First Name: John\n",
      "Last Name: Doe\n"
     ]
    }
   ],
   "source": [
    "def extract_first_last_name(full_name):\n",
    "    name_parts = full_name.split()\n",
    "\n",
    "    if len(name_parts) >= 2:\n",
    "        first_name = name_parts[0]\n",
    "        last_name = ' '.join(name_parts[1:])  \n",
    "        return first_name, last_name\n",
    "    else:\n",
    "        return \"Error: Full name should have at least two parts.\"\n",
    "\n",
    "# Example\n",
    "full_name_input = \"John Doe\"\n",
    "first_name, last_name = extract_first_last_name(full_name_input)\n",
    "\n",
    "print(\"First Name:\", first_name)\n",
    "print(\"Last Name:\", last_name)\n"
   ]
  },
  {
   "cell_type": "code",
   "execution_count": 21,
   "id": "2fdbf720",
   "metadata": {},
   "outputs": [],
   "source": [
    "def extract_name(full_name):\n",
    "    name_parts = full_name.split()\n",
    "\n",
    "    if len(name_parts) >= 2:\n",
    "        first_name = name_parts[0]\n",
    "        last_name = ' '.join(name_parts[1:])  \n",
    "        return first_name, last_name\n",
    "    else:\n",
    "        return \"Error: Full name should have at least two parts.\""
   ]
  },
  {
   "cell_type": "code",
   "execution_count": 23,
   "id": "73be04e7",
   "metadata": {},
   "outputs": [
    {
     "name": "stdout",
     "output_type": "stream",
     "text": [
      "Firstname: Amit\n",
      "Lastname: Verma\n"
     ]
    }
   ],
   "source": [
    "fullname=\"Amit Verma\"\n",
    "firstname,lastname=extract_name(fullname)\n",
    "\n",
    "print(\"Firstname:\",firstname)\n",
    "print(\"Lastname:\",lastname)"
   ]
  }
 ],
 "metadata": {
  "kernelspec": {
   "display_name": "Python 3 (ipykernel)",
   "language": "python",
   "name": "python3"
  },
  "language_info": {
   "codemirror_mode": {
    "name": "ipython",
    "version": 3
   },
   "file_extension": ".py",
   "mimetype": "text/x-python",
   "name": "python",
   "nbconvert_exporter": "python",
   "pygments_lexer": "ipython3",
   "version": "3.11.4"
  }
 },
 "nbformat": 4,
 "nbformat_minor": 5
}
