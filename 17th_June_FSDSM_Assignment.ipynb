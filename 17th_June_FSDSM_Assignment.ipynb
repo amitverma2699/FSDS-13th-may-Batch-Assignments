{
 "cells": [
  {
   "cell_type": "markdown",
   "id": "1933abe3",
   "metadata": {},
   "source": [
    "Question 1. What is the role of try and exception block?"
   ]
  },
  {
   "cell_type": "markdown",
   "id": "4ca07a6d",
   "metadata": {},
   "source": [
    "Ans. The try-except block in Python plays a crucial role in handling exceptions or errors that may occur during program execution.\n",
    "* Try Block:\n",
    "  1. The try block contains code that might generate an exception or an error.\n",
    "  2. Python attempts to execute this code.\n",
    "  3. If an error occurs within the try block, Python stops executing it and moves to the except block.\n",
    "\n",
    "* Except Block:\n",
    "  1. The code inside the except block executes if an error occurs in the try block.\n",
    "  2. It allows you to gracefully handle exceptions.\n",
    "  3. Even if the try block contains only the pass statement, an except block is still required."
   ]
  },
  {
   "cell_type": "code",
   "execution_count": 1,
   "id": "1fbc14ab",
   "metadata": {},
   "outputs": [
    {
     "name": "stdout",
     "output_type": "stream",
     "text": [
      "Divided by zero\n",
      "Should reach here\n"
     ]
    }
   ],
   "source": [
    "try:\n",
    "    result = 1 / 0 \n",
    "    \n",
    "except ZeroDivisionError:\n",
    "    print(\"Divided by zero\")\n",
    "    \n",
    "print(\"Should reach here\")\n"
   ]
  },
  {
   "cell_type": "markdown",
   "id": "adc1b867",
   "metadata": {},
   "source": [
    "Question2. What is the syntax for a basic try-except block ?"
   ]
  },
  {
   "cell_type": "code",
   "execution_count": 2,
   "id": "b06d8b8c",
   "metadata": {},
   "outputs": [],
   "source": [
    "#The basic syntax for a try-except block :\n",
    "\n",
    "try:\n",
    "    pass\n",
    "  \n",
    "except ExceptionType:\n",
    "    print(\"This is Basic Syntax of try-except\")"
   ]
  },
  {
   "cell_type": "markdown",
   "id": "55252b30",
   "metadata": {},
   "source": [
    "  "
   ]
  },
  {
   "cell_type": "markdown",
   "id": "34ec1861",
   "metadata": {},
   "source": [
    "Question3. What happens if an exception occurs inside a try block and there is no matching except block?"
   ]
  },
  {
   "cell_type": "code",
   "execution_count": 4,
   "id": "a2d5092e",
   "metadata": {},
   "outputs": [],
   "source": [
    "def divide(a, b):\n",
    "    try:\n",
    "        result = a / b\n",
    "        return result\n",
    "    except ValueError:\n",
    "        print(\"ValueError occurred!\")\n",
    "        # This block won't execute because it's not a ValueError that occurs here"
   ]
  },
  {
   "cell_type": "code",
   "execution_count": 5,
   "id": "64df0b80",
   "metadata": {},
   "outputs": [
    {
     "ename": "ZeroDivisionError",
     "evalue": "division by zero",
     "output_type": "error",
     "traceback": [
      "\u001b[1;31m---------------------------------------------------------------------------\u001b[0m",
      "\u001b[1;31mZeroDivisionError\u001b[0m                         Traceback (most recent call last)",
      "Cell \u001b[1;32mIn[5], line 1\u001b[0m\n\u001b[1;32m----> 1\u001b[0m result \u001b[38;5;241m=\u001b[39m divide(\u001b[38;5;241m10\u001b[39m, \u001b[38;5;241m0\u001b[39m)  \u001b[38;5;66;03m# This will raise a ZeroDivisionError\u001b[39;00m\n\u001b[0;32m      2\u001b[0m \u001b[38;5;28mprint\u001b[39m(result)\n",
      "Cell \u001b[1;32mIn[4], line 3\u001b[0m, in \u001b[0;36mdivide\u001b[1;34m(a, b)\u001b[0m\n\u001b[0;32m      1\u001b[0m \u001b[38;5;28;01mdef\u001b[39;00m \u001b[38;5;21mdivide\u001b[39m(a, b):\n\u001b[0;32m      2\u001b[0m     \u001b[38;5;28;01mtry\u001b[39;00m:\n\u001b[1;32m----> 3\u001b[0m         result \u001b[38;5;241m=\u001b[39m a \u001b[38;5;241m/\u001b[39m b\n\u001b[0;32m      4\u001b[0m         \u001b[38;5;28;01mreturn\u001b[39;00m result\n\u001b[0;32m      5\u001b[0m     \u001b[38;5;28;01mexcept\u001b[39;00m \u001b[38;5;167;01mValueError\u001b[39;00m:\n",
      "\u001b[1;31mZeroDivisionError\u001b[0m: division by zero"
     ]
    }
   ],
   "source": [
    "result = divide(10, 0)  # This will raise a ZeroDivisionError\n",
    "\n",
    "print(result) # This line will not be executed due to the unhandled exception\n"
   ]
  },
  {
   "cell_type": "markdown",
   "id": "0fd17fd8",
   "metadata": {},
   "source": [
    "  "
   ]
  },
  {
   "cell_type": "markdown",
   "id": "fd96b266",
   "metadata": {},
   "source": [
    "Question 4. What is the difference between using a bare except block and specifying a specific exception type?"
   ]
  },
  {
   "cell_type": "code",
   "execution_count": 6,
   "id": "d98d6a9c",
   "metadata": {},
   "outputs": [
    {
     "name": "stdout",
     "output_type": "stream",
     "text": [
      "Enter a number: 0\n",
      "An error occurred!\n"
     ]
    }
   ],
   "source": [
    "# Bare except Block :\n",
    "try:\n",
    "    result = int(input(\"Enter a number: \"))\n",
    "    print(10 / result)\n",
    "except:\n",
    "    print(\"An error occurred!\")"
   ]
  },
  {
   "cell_type": "code",
   "execution_count": 8,
   "id": "f4e2dcb0",
   "metadata": {},
   "outputs": [
    {
     "name": "stdout",
     "output_type": "stream",
     "text": [
      "Enter a number: 0\n",
      "Cannot divide by zero!\n"
     ]
    }
   ],
   "source": [
    "# Specific Exception Type :\n",
    "try:\n",
    "    result = int(input(\"Enter a number: \"))\n",
    "    print(10 / result)\n",
    "except ValueError:\n",
    "    print(\"Invalid input! Please enter a valid integer.\")\n",
    "except ZeroDivisionError:\n",
    "    print(\"Cannot divide by zero!\")"
   ]
  },
  {
   "cell_type": "markdown",
   "id": "b5ae6a3b",
   "metadata": {},
   "source": [
    "  "
   ]
  },
  {
   "cell_type": "markdown",
   "id": "b091d5d4",
   "metadata": {},
   "source": [
    "Question 5. Can you have nested try-except blocks in Python? If yes, then give an example."
   ]
  },
  {
   "cell_type": "markdown",
   "id": "c6e331a1",
   "metadata": {},
   "source": [
    "Ans. Yes, you can definitely have nested 'try-except' blocks in Python. Nested 'try-except' blocks allow for more granular error handling, where specific parts of your code can have their own error handling logic."
   ]
  },
  {
   "cell_type": "code",
   "execution_count": 9,
   "id": "6df96049",
   "metadata": {},
   "outputs": [],
   "source": [
    "#Example of Nested try-except blocks :\n",
    "def divide_numbers(x, y, z):\n",
    "    try:\n",
    "        result = x / y\n",
    "        print(f\"Result of division x/y: {result}\")\n",
    "        \n",
    "        try:\n",
    "            result = result / z\n",
    "            print(f\"Result of division (x/y)/z: {result}\")\n",
    "        except ZeroDivisionError:\n",
    "            print(\"Error: Cannot divide by zero (inner try-except).\")\n",
    "        \n",
    "    except ZeroDivisionError:\n",
    "        print(\"Error: Cannot divide by zero (outer try-except).\")"
   ]
  },
  {
   "cell_type": "code",
   "execution_count": 10,
   "id": "f0d771f6",
   "metadata": {},
   "outputs": [
    {
     "name": "stdout",
     "output_type": "stream",
     "text": [
      "Result of division x/y: 5.0\n",
      "Error: Cannot divide by zero (inner try-except).\n"
     ]
    }
   ],
   "source": [
    "try:\n",
    "    divide_numbers(10, 2, 0)\n",
    "except ZeroDivisionError:\n",
    "    print(\"Error: Cannot divide by zero (outermost try-except).\")\n"
   ]
  },
  {
   "cell_type": "markdown",
   "id": "b22c890c",
   "metadata": {},
   "source": [
    "  "
   ]
  },
  {
   "cell_type": "markdown",
   "id": "3dacd6f4",
   "metadata": {},
   "source": [
    "Question 6.  Can we use multiple exception blocks, if yes then give an example."
   ]
  },
  {
   "cell_type": "markdown",
   "id": "6be29063",
   "metadata": {},
   "source": [
    "Ans. Yes, in Python, you can use multiple 'except' blocks to handle different types of exceptions within the same 'try' block. This allows you to provide specific error-handling logic for each type of exception that your code may encounter. "
   ]
  },
  {
   "cell_type": "code",
   "execution_count": 12,
   "id": "fbbff674",
   "metadata": {},
   "outputs": [],
   "source": [
    "# Example of Multiple Exception blocks:\n",
    "\n",
    "def calculate_division(x, y):\n",
    "    try:\n",
    "        result = x / y\n",
    "        print(f\"Result of division: {result}\")\n",
    "        \n",
    "        my_list = [1, 2, 3]\n",
    "        print(f\"Value at index 3: {my_list[3]}\")\n",
    "\n",
    "    except ZeroDivisionError:\n",
    "        print(\"Error: Cannot divide by zero \")\n",
    "    except IndexError:\n",
    "        print(\"Error: Index out of range \")"
   ]
  },
  {
   "cell_type": "code",
   "execution_count": 13,
   "id": "393edd83",
   "metadata": {},
   "outputs": [
    {
     "name": "stdout",
     "output_type": "stream",
     "text": [
      "Result of division: 5.0\n",
      "Error: Index out of range \n"
     ]
    }
   ],
   "source": [
    "calculate_division(10, 2)  # This will execute without exceptions"
   ]
  },
  {
   "cell_type": "code",
   "execution_count": 14,
   "id": "6a54baeb",
   "metadata": {},
   "outputs": [
    {
     "name": "stdout",
     "output_type": "stream",
     "text": [
      "Error: Cannot divide by zero \n"
     ]
    }
   ],
   "source": [
    "calculate_division(10, 0)  # This will raise a ZeroDivisionError"
   ]
  },
  {
   "cell_type": "code",
   "execution_count": 15,
   "id": "14bf7fd3",
   "metadata": {},
   "outputs": [
    {
     "ename": "TypeError",
     "evalue": "unsupported operand type(s) for /: 'int' and 'str'",
     "output_type": "error",
     "traceback": [
      "\u001b[1;31m---------------------------------------------------------------------------\u001b[0m",
      "\u001b[1;31mTypeError\u001b[0m                                 Traceback (most recent call last)",
      "Cell \u001b[1;32mIn[15], line 1\u001b[0m\n\u001b[1;32m----> 1\u001b[0m calculate_division(\u001b[38;5;241m10\u001b[39m, \u001b[38;5;124m'\u001b[39m\u001b[38;5;124ma\u001b[39m\u001b[38;5;124m'\u001b[39m)\n",
      "Cell \u001b[1;32mIn[12], line 5\u001b[0m, in \u001b[0;36mcalculate_division\u001b[1;34m(x, y)\u001b[0m\n\u001b[0;32m      3\u001b[0m \u001b[38;5;28;01mdef\u001b[39;00m \u001b[38;5;21mcalculate_division\u001b[39m(x, y):\n\u001b[0;32m      4\u001b[0m     \u001b[38;5;28;01mtry\u001b[39;00m:\n\u001b[1;32m----> 5\u001b[0m         result \u001b[38;5;241m=\u001b[39m x \u001b[38;5;241m/\u001b[39m y\n\u001b[0;32m      6\u001b[0m         \u001b[38;5;28mprint\u001b[39m(\u001b[38;5;124mf\u001b[39m\u001b[38;5;124m\"\u001b[39m\u001b[38;5;124mResult of division: \u001b[39m\u001b[38;5;132;01m{\u001b[39;00mresult\u001b[38;5;132;01m}\u001b[39;00m\u001b[38;5;124m\"\u001b[39m)\n\u001b[0;32m      8\u001b[0m         my_list \u001b[38;5;241m=\u001b[39m [\u001b[38;5;241m1\u001b[39m, \u001b[38;5;241m2\u001b[39m, \u001b[38;5;241m3\u001b[39m]\n",
      "\u001b[1;31mTypeError\u001b[0m: unsupported operand type(s) for /: 'int' and 'str'"
     ]
    }
   ],
   "source": [
    "calculate_division(10, 'a')  # This will raise a TypeError due to unsupported operation"
   ]
  },
  {
   "cell_type": "markdown",
   "id": "e4699b4f",
   "metadata": {},
   "source": [
    "  "
   ]
  },
  {
   "cell_type": "markdown",
   "id": "c75eda47",
   "metadata": {},
   "source": [
    "Question 7. \n",
    "* Write the reason due to which following errors are raised:\n",
    "   1. EOFError\n",
    "   2. FloatingPointError\n",
    "   3. IndexError\n",
    "   4. MemoryError\n",
    "   5. OverflowError\n",
    "   6. TabError\n",
    "   7. ValueError"
   ]
  },
  {
   "cell_type": "markdown",
   "id": "4fe2ba9a",
   "metadata": {},
   "source": [
    "Ans.\n",
    "1. EOFError:\n",
    "\n",
    "   Reason: This error occurs when the input() function hits an end-of-file condition (EOF) without reading any data or when the input() function is interrupted before it can read any input. It typically happens when the user prematurely terminates the input stream. \n",
    "\n",
    "\n",
    "2. FloatingPointError:\n",
    "\n",
    "   Reason: This error occurs when a floating-point operation (like division by zero or an operation that results in an undefined or infinite value) fails to produce a valid result due to limitations of the floating-point arithmetic in the underlying hardware or software.\n",
    "\n",
    "\n",
    "3. IndexError:\n",
    "\n",
    "   Reason: This error occurs when trying to access an index in a sequence (such as a list or tuple) that is out of range (i.e., the index is either negative or greater than or equal to the length of the sequence). It indicates that the requested index does not exist in the sequence.\n",
    "\n",
    "\n",
    "4. MemoryError:\n",
    "\n",
    "   Reason: This error occurs when the Python program runs out of available memory while trying to allocate an object (e.g., creating a new list, dictionary, or other data structures) due to insufficient memory resources.\n",
    "\n",
    "\n",
    "5. OverflowError:\n",
    "\n",
    "   Reason: This error occurs when a numerical calculation exceeds the maximum limit that can be represented by a numeric type (e.g., integer or float). For example, attempting to calculate a value that is too large to be stored in the specified data type can result in an OverflowError.\n",
    "\n",
    "\n",
    "6. TabError:\n",
    "\n",
    "   Reason: This error occurs when indentation in the code is not consistent or contains mixed tabs and spaces. Python expects consistent indentation (either all tabs or all spaces) to define the structure of the code, and a TabError is raised if it encounters inconsistent indentation.\n",
    "\n",
    "\n",
    "7. ValueError:\n",
    "\n",
    "   Reason: This error occurs when a function or operation receives an argument of the correct type but an inappropriate value. For example, passing an invalid argument to a function (e.g., trying to convert a string that is not a valid integer to an integer using int()) can result in a ValueError."
   ]
  },
  {
   "cell_type": "markdown",
   "id": "0ce348dc",
   "metadata": {},
   "source": [
    "  "
   ]
  },
  {
   "cell_type": "markdown",
   "id": "31a070fa",
   "metadata": {},
   "source": [
    "Question 8. \n",
    "* Write code for the following given scenario and add try-exception block to it.\n",
    "  1. Program to divide two numbers\n",
    "  2. Program to convert a string to an integer\n",
    "  3. Program to access an element in a list\n",
    "  4. Program to handle a specific exception\n",
    "  5. Program to handle any exception"
   ]
  },
  {
   "cell_type": "markdown",
   "id": "52d38a65",
   "metadata": {},
   "source": [
    "# 1. Program to divide two numbers"
   ]
  },
  {
   "cell_type": "code",
   "execution_count": 21,
   "id": "79189238",
   "metadata": {},
   "outputs": [],
   "source": [
    "def divide_numbers(x, y):\n",
    "    try:\n",
    "        result = x / y\n",
    "        print(f\"Result of division: {result}\")\n",
    "        \n",
    "    except ZeroDivisionError:\n",
    "        print(\"Error: Cannot divide by zero\")"
   ]
  },
  {
   "cell_type": "code",
   "execution_count": 22,
   "id": "bcd71d87",
   "metadata": {},
   "outputs": [
    {
     "name": "stdout",
     "output_type": "stream",
     "text": [
      "Result of division: 5.0\n",
      "Error: Cannot divide by zero\n"
     ]
    }
   ],
   "source": [
    "try:\n",
    "    divide_numbers(10, 2)  \n",
    "    divide_numbers(10, 0) \n",
    "    \n",
    "except Exception as e:\n",
    "    print(f\"An unexpected error occurred: {e}\")"
   ]
  },
  {
   "cell_type": "markdown",
   "id": "06a11df1",
   "metadata": {},
   "source": [
    "# 2. Program to convert a string to an integer"
   ]
  },
  {
   "cell_type": "code",
   "execution_count": 23,
   "id": "16eb91d5",
   "metadata": {},
   "outputs": [],
   "source": [
    "def convert_to_integer(s):\n",
    "    try:\n",
    "        number = int(s)\n",
    "        print(f\"Converted integer: {number}\")\n",
    "        \n",
    "    except ValueError:\n",
    "        print(\"Error: Invalid input Please enter a valid integer\")"
   ]
  },
  {
   "cell_type": "code",
   "execution_count": 20,
   "id": "ea8ed272",
   "metadata": {},
   "outputs": [
    {
     "name": "stdout",
     "output_type": "stream",
     "text": [
      "Converted integer: 123\n",
      "Error: Invalid input Please enter a valid integer\n"
     ]
    }
   ],
   "source": [
    "try:\n",
    "    convert_to_integer(\"123\")  \n",
    "    convert_to_integer(\"abc\") \n",
    "    \n",
    "except Exception as e:\n",
    "    print(f\"An unexpected error occurred: {e}\")"
   ]
  },
  {
   "cell_type": "markdown",
   "id": "8c191533",
   "metadata": {},
   "source": [
    "# 3. Program to access an element in a list"
   ]
  },
  {
   "cell_type": "code",
   "execution_count": 25,
   "id": "fbfd6390",
   "metadata": {},
   "outputs": [],
   "source": [
    "def access_list_element(my_list, index):\n",
    "    try:\n",
    "        value = my_list[index]\n",
    "        print(f\"Value at index {index}: {value}\")\n",
    "        \n",
    "    except IndexError:\n",
    "        print(\"Error: Index out of range\")"
   ]
  },
  {
   "cell_type": "code",
   "execution_count": 26,
   "id": "e7816d6a",
   "metadata": {},
   "outputs": [
    {
     "name": "stdout",
     "output_type": "stream",
     "text": [
      "Value at index 1: 2\n",
      "Error: Index out of range\n"
     ]
    }
   ],
   "source": [
    "\n",
    "try:\n",
    "    my_list = [1, 2, 3]\n",
    "    access_list_element(my_list, 1) \n",
    "    access_list_element(my_list, 3)\n",
    "    \n",
    "except Exception as e:\n",
    "    print(f\"An unexpected error occurred: {e}\")"
   ]
  },
  {
   "cell_type": "markdown",
   "id": "ae593cc7",
   "metadata": {},
   "source": [
    "# 4. Program to handle a specific exception"
   ]
  },
  {
   "cell_type": "code",
   "execution_count": 27,
   "id": "d1b97001",
   "metadata": {},
   "outputs": [],
   "source": [
    "def handle_specific_exception():\n",
    "    try:\n",
    "        x = 10\n",
    "        y = 0\n",
    "        result = x / y\n",
    "        \n",
    "    except ZeroDivisionError:\n",
    "        print(\"Error: Cannot divide by zero\")"
   ]
  },
  {
   "cell_type": "code",
   "execution_count": 28,
   "id": "c7674f44",
   "metadata": {},
   "outputs": [
    {
     "name": "stdout",
     "output_type": "stream",
     "text": [
      "Error: Cannot divide by zero\n"
     ]
    }
   ],
   "source": [
    "try:\n",
    "    handle_specific_exception()\n",
    "\n",
    "except Exception as e:\n",
    "    print(f\"An unexpected error occurred: {e}\")\n"
   ]
  },
  {
   "cell_type": "markdown",
   "id": "8da1bde9",
   "metadata": {},
   "source": [
    "# 5. Program to handle any exception"
   ]
  },
  {
   "cell_type": "code",
   "execution_count": 31,
   "id": "1282cb6d",
   "metadata": {},
   "outputs": [],
   "source": [
    "def handle_any_exception():\n",
    "    try:\n",
    "        my_dict = {\"key\" : \"value\"}\n",
    "        print(my_dict['invalid_key'])\n",
    "    \n",
    "    except Exception as e:\n",
    "        print(f\"An error occurred: {e}\")"
   ]
  },
  {
   "cell_type": "code",
   "execution_count": 32,
   "id": "a9d2baf4",
   "metadata": {},
   "outputs": [
    {
     "name": "stdout",
     "output_type": "stream",
     "text": [
      "An error occurred: 'invalid_key'\n"
     ]
    }
   ],
   "source": [
    "try:\n",
    "    handle_any_exception()  \n",
    "    \n",
    "except Exception as e:\n",
    "    print(f\"An unexpected error occurred: {e}\")"
   ]
  }
 ],
 "metadata": {
  "kernelspec": {
   "display_name": "Python 3 (ipykernel)",
   "language": "python",
   "name": "python3"
  },
  "language_info": {
   "codemirror_mode": {
    "name": "ipython",
    "version": 3
   },
   "file_extension": ".py",
   "mimetype": "text/x-python",
   "name": "python",
   "nbconvert_exporter": "python",
   "pygments_lexer": "ipython3",
   "version": "3.11.4"
  }
 },
 "nbformat": 4,
 "nbformat_minor": 5
}
