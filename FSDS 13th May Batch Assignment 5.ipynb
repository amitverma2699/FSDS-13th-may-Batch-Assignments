{
 "cells": [
  {
   "cell_type": "markdown",
   "id": "041d8096",
   "metadata": {},
   "source": [
    "Question 1. What does an empty dictionary's code look like?"
   ]
  },
  {
   "cell_type": "code",
   "execution_count": 3,
   "id": "3da93259",
   "metadata": {},
   "outputs": [
    {
     "data": {
      "text/plain": [
       "dict"
      ]
     },
     "execution_count": 3,
     "metadata": {},
     "output_type": "execute_result"
    }
   ],
   "source": [
    "#Ans.\n",
    "d={}\n",
    "type(d)"
   ]
  },
  {
   "cell_type": "markdown",
   "id": "5e5f47b5",
   "metadata": {},
   "source": [
    "Question 2. What is the value of a dictionary value with the key 'foo' and the value 42?"
   ]
  },
  {
   "cell_type": "code",
   "execution_count": 5,
   "id": "dad26b01",
   "metadata": {},
   "outputs": [
    {
     "name": "stdout",
     "output_type": "stream",
     "text": [
      "{'foo': 42}\n"
     ]
    }
   ],
   "source": [
    "d={'foo':42}\n",
    "print(d)"
   ]
  },
  {
   "cell_type": "markdown",
   "id": "04597154",
   "metadata": {},
   "source": [
    "Question 3. What is the most significant distinction between a dictionary and a list?\n",
    "\n",
    "Ans. Dictionary is a collection of keys and values pairs of the elements. it use {} ,  List is an ordered collection of elements. it use [] "
   ]
  },
  {
   "cell_type": "code",
   "execution_count": 6,
   "id": "0e47ba32",
   "metadata": {},
   "outputs": [
    {
     "name": "stdout",
     "output_type": "stream",
     "text": [
      "{'ineuron': 'Data Science'}\n",
      "[1, 2, 'ineuron', 34.32, True]\n"
     ]
    }
   ],
   "source": [
    "#Example \n",
    "#Dictionary:-\n",
    "d={'ineuron':'Data Science'}\n",
    "print(d)\n",
    "#List:-\n",
    "l=[1,2,'ineuron',34.32,True]\n",
    "print(l)"
   ]
  },
  {
   "cell_type": "markdown",
   "id": "e46afd2c",
   "metadata": {},
   "source": [
    "Question 4. What happens if you try to access spam['foo'] if spam is {'bar': 100}?\n",
    "\n",
    "Ans. It shows keyerror"
   ]
  },
  {
   "cell_type": "code",
   "execution_count": 7,
   "id": "52da9c14",
   "metadata": {},
   "outputs": [],
   "source": [
    "spam = {'bar':100}"
   ]
  },
  {
   "cell_type": "code",
   "execution_count": 8,
   "id": "60ed2439",
   "metadata": {},
   "outputs": [
    {
     "ename": "KeyError",
     "evalue": "'foo'",
     "output_type": "error",
     "traceback": [
      "\u001b[1;31m---------------------------------------------------------------------------\u001b[0m",
      "\u001b[1;31mKeyError\u001b[0m                                  Traceback (most recent call last)",
      "Cell \u001b[1;32mIn[8], line 1\u001b[0m\n\u001b[1;32m----> 1\u001b[0m \u001b[43mspam\u001b[49m\u001b[43m[\u001b[49m\u001b[38;5;124;43m'\u001b[39;49m\u001b[38;5;124;43mfoo\u001b[39;49m\u001b[38;5;124;43m'\u001b[39;49m\u001b[43m]\u001b[49m\n",
      "\u001b[1;31mKeyError\u001b[0m: 'foo'"
     ]
    }
   ],
   "source": [
    "spam['foo']"
   ]
  },
  {
   "cell_type": "markdown",
   "id": "c4ecb623",
   "metadata": {},
   "source": [
    "Question 5. If a dictionary is stored in spam, what is the difference between the expressions 'cat' in spam and 'cat' in spam.keys()?\n",
    "\n",
    "Ans. both have same output"
   ]
  },
  {
   "cell_type": "code",
   "execution_count": 9,
   "id": "d8bb91f3",
   "metadata": {},
   "outputs": [],
   "source": [
    "spam = {'cat':2,'dogs':3}"
   ]
  },
  {
   "cell_type": "code",
   "execution_count": 10,
   "id": "99875c7e",
   "metadata": {},
   "outputs": [
    {
     "data": {
      "text/plain": [
       "True"
      ]
     },
     "execution_count": 10,
     "metadata": {},
     "output_type": "execute_result"
    }
   ],
   "source": [
    "'cat' in spam "
   ]
  },
  {
   "cell_type": "code",
   "execution_count": 12,
   "id": "f3c13c62",
   "metadata": {},
   "outputs": [
    {
     "data": {
      "text/plain": [
       "True"
      ]
     },
     "execution_count": 12,
     "metadata": {},
     "output_type": "execute_result"
    }
   ],
   "source": [
    "'cat' in spam.keys()"
   ]
  },
  {
   "cell_type": "markdown",
   "id": "dcb9742d",
   "metadata": {},
   "source": [
    "Question 6. If a dictionary is stored in spam, what is the difference between the expressions 'cat' in spam and 'cat' in spam.values()?\n",
    "\n",
    "Ans. 'cat' in spam checks if 'cat' key in the dictionary, And  'cat' in spam.values() checks if value 'cat' for one of the keys in spam."
   ]
  },
  {
   "cell_type": "code",
   "execution_count": 14,
   "id": "a23e411a",
   "metadata": {},
   "outputs": [],
   "source": [
    "spam = {'cat': 2, 'dogs': 3,'pets':'cat'}"
   ]
  },
  {
   "cell_type": "code",
   "execution_count": 15,
   "id": "38574ecf",
   "metadata": {},
   "outputs": [
    {
     "data": {
      "text/plain": [
       "True"
      ]
     },
     "execution_count": 15,
     "metadata": {},
     "output_type": "execute_result"
    }
   ],
   "source": [
    "'cat' in spam "
   ]
  },
  {
   "cell_type": "code",
   "execution_count": 16,
   "id": "e25240b4",
   "metadata": {},
   "outputs": [
    {
     "data": {
      "text/plain": [
       "True"
      ]
     },
     "execution_count": 16,
     "metadata": {},
     "output_type": "execute_result"
    }
   ],
   "source": [
    "'cat' in spam .values()"
   ]
  },
  {
   "cell_type": "markdown",
   "id": "42482695",
   "metadata": {},
   "source": [
    "Question 7. What is a shortcut for the following code?"
   ]
  },
  {
   "cell_type": "code",
   "execution_count": 17,
   "id": "6ec8060d",
   "metadata": {},
   "outputs": [],
   "source": [
    "#if 'color' not in spam:\n",
    "#spam['color'] = 'black'"
   ]
  },
  {
   "cell_type": "code",
   "execution_count": 21,
   "id": "a91b8f73",
   "metadata": {},
   "outputs": [],
   "source": [
    "#Ans.\n",
    "if 'color' not in spam: spam['color']='black'"
   ]
  },
  {
   "cell_type": "markdown",
   "id": "a57ee8ad",
   "metadata": {},
   "source": [
    "Question 8. How do you \"pretty print\" dictionary values using which module and function?\n",
    "\n",
    "Ans. Use pprint as a module or as a function."
   ]
  },
  {
   "cell_type": "code",
   "execution_count": 26,
   "id": "ee257b95",
   "metadata": {},
   "outputs": [],
   "source": [
    "#Ans.\n",
    "import pprint\n",
    "dct = [ {'Name': 'Amit', 'Age': '23', 'Country': 'India'},\n",
    "  {'Name': 'Sudh', 'Age': '30', 'Country': 'China'},\n",
    "  {'Name': 'Krish', 'Age': '33', 'Country': 'India'},\n",
    "  {'Name': 'Sunny', 'Age': '29', 'Country': 'USA'}]"
   ]
  },
  {
   "cell_type": "code",
   "execution_count": 27,
   "id": "596a8ca9",
   "metadata": {},
   "outputs": [
    {
     "name": "stdout",
     "output_type": "stream",
     "text": [
      "[{'Age': '23', 'Country': 'India', 'Name': 'Amit'},\n",
      " {'Age': '30', 'Country': 'China', 'Name': 'Sudh'},\n",
      " {'Age': '33', 'Country': 'India', 'Name': 'Krish'},\n",
      " {'Age': '29', 'Country': 'USA', 'Name': 'Sunny'}]\n"
     ]
    }
   ],
   "source": [
    "pprint.pprint(dct)"
   ]
  },
  {
   "cell_type": "code",
   "execution_count": null,
   "id": "c703e958",
   "metadata": {},
   "outputs": [],
   "source": []
  }
 ],
 "metadata": {
  "kernelspec": {
   "display_name": "Python 3 (ipykernel)",
   "language": "python",
   "name": "python3"
  },
  "language_info": {
   "codemirror_mode": {
    "name": "ipython",
    "version": 3
   },
   "file_extension": ".py",
   "mimetype": "text/x-python",
   "name": "python",
   "nbconvert_exporter": "python",
   "pygments_lexer": "ipython3",
   "version": "3.10.9"
  }
 },
 "nbformat": 4,
 "nbformat_minor": 5
}
