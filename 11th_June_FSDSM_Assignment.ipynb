{
 "cells": [
  {
   "cell_type": "markdown",
   "id": "3ca0ea07",
   "metadata": {},
   "source": [
    "Question 1. What is a lambda function in Python, and how does it differ from a regular function?"
   ]
  },
  {
   "cell_type": "markdown",
   "id": "bdeb5be1",
   "metadata": {},
   "source": [
    "Ans. A lambda function in Python is a small anonymous function defined with the 'lambda' keyword. It is also known as an inline function or a lambda abstraction. Lambda functions can take any number of arguments, but they can only have one expression. "
   ]
  },
  {
   "cell_type": "code",
   "execution_count": 1,
   "id": "ce726057",
   "metadata": {},
   "outputs": [],
   "source": [
    "#Example of Lambda Function :\n",
    "\n",
    "add=lambda x, y: x + y"
   ]
  },
  {
   "cell_type": "code",
   "execution_count": 2,
   "id": "0fdd81b1",
   "metadata": {},
   "outputs": [
    {
     "data": {
      "text/plain": [
       "30"
      ]
     },
     "execution_count": 2,
     "metadata": {},
     "output_type": "execute_result"
    }
   ],
   "source": [
    "add(10,20)"
   ]
  },
  {
   "cell_type": "code",
   "execution_count": 3,
   "id": "22746dcc",
   "metadata": {},
   "outputs": [],
   "source": [
    "#Regular Function :\n",
    "\n",
    "def addition(x,y):\n",
    "    return x+y"
   ]
  },
  {
   "cell_type": "code",
   "execution_count": 4,
   "id": "8c566eb1",
   "metadata": {},
   "outputs": [
    {
     "data": {
      "text/plain": [
       "15"
      ]
     },
     "execution_count": 4,
     "metadata": {},
     "output_type": "execute_result"
    }
   ],
   "source": [
    "addition(10,5)"
   ]
  },
  {
   "cell_type": "markdown",
   "id": "2dacc3ea",
   "metadata": {},
   "source": [
    "* How does it differ from a regular function ?\n",
    "\n",
    "  Both the regular function addition and the lambda function add achieve the same result of adding two numbers, but the regular   function is more explicit and can be reused across different parts of the code, while the lambda function is concise and      suitable for immediate use within a limited scope."
   ]
  },
  {
   "cell_type": "markdown",
   "id": "50ad83cd",
   "metadata": {},
   "source": [
    "  "
   ]
  },
  {
   "cell_type": "markdown",
   "id": "7a8a59cd",
   "metadata": {},
   "source": [
    "Question 2. Can a lambda function in Python have multiple arguments? If yes, how can you define and use them?"
   ]
  },
  {
   "cell_type": "markdown",
   "id": "f8276a75",
   "metadata": {},
   "source": [
    "Ans. Yes, a lambda function in Python can indeed have multiple arguments. The syntax for defining a lambda function with multiple arguments is straight forward."
   ]
  },
  {
   "cell_type": "code",
   "execution_count": 5,
   "id": "93385191",
   "metadata": {
    "collapsed": true
   },
   "outputs": [
    {
     "data": {
      "text/plain": [
       "\"In this lambda function:\\n\\nx and y are the arguments.\\nThe expression x + y calculates the sum of x and y.\\nYou can then use this lambda function 'add' to compute the sum of two numbers by passing arguments to it\""
      ]
     },
     "execution_count": 5,
     "metadata": {},
     "output_type": "execute_result"
    }
   ],
   "source": [
    "add=lambda x, y: x + y\n",
    "\n",
    "\"\"\"In this lambda function:\n",
    "\n",
    "x and y are the arguments.\n",
    "The expression 'x + y' calculates the sum of x and y.\n",
    "You can then use this lambda function 'add' to compute the sum of two numbers by passing arguments to it\"\"\""
   ]
  },
  {
   "cell_type": "code",
   "execution_count": 7,
   "id": "76d4cfbd",
   "metadata": {},
   "outputs": [
    {
     "name": "stdout",
     "output_type": "stream",
     "text": [
      "65\n"
     ]
    }
   ],
   "source": [
    "answer=add(15,50)\n",
    "print(answer)"
   ]
  },
  {
   "cell_type": "markdown",
   "id": "9904cedb",
   "metadata": {},
   "source": [
    "  "
   ]
  },
  {
   "cell_type": "markdown",
   "id": "c4e0272e",
   "metadata": {},
   "source": [
    "Question 3. How are lambda functions typically used in Python? Provide an example use case."
   ]
  },
  {
   "cell_type": "markdown",
   "id": "9c5d38e8",
   "metadata": {},
   "source": [
    "Ans. Lambda functions in Python are typically used in situations where a small, anonymous function is needed for a short period of time and at a specific location in your code. They are especially useful in scenarios where defining a full named function using 'def' would be unnecessary. Lambda functions are often used in conjunction with functions that accept other functions as arguments or in situations where you need to perform a quick computation without defining a separate function. \n",
    "\n",
    "Some Use cases:\n",
    "1. Sorting or Filtering Data\n",
    "2. Callbacks\n",
    "3. Conditional Expressions\n",
    "4. Key Functions for Complex Objects"
   ]
  },
  {
   "cell_type": "markdown",
   "id": "8f87af26",
   "metadata": {},
   "source": [
    "Question 4. What are the advantages and limitations of lambda functions compared to regular functions in Python?"
   ]
  },
  {
   "cell_type": "markdown",
   "id": "b3f09500",
   "metadata": {},
   "source": [
    "Ans. \n",
    "\n",
    "Advantages of Lambda Expressions:\n",
    "\n",
    "1. Conciseness: Lambda expressions allow you to define a function in a single line of code. They are useful for simple operations.\n",
    "2. No Additional Variables: Unlike regular functions, lambdas don’t introduce extra variables.\n",
    "3. Immediate Use: Lambdas can be passed directly without assigning them to a variable first.\n",
    "4. Automatic Return: They automatically return the result of the expression.\n",
    "\n",
    "\n",
    "Disadvantages of Lambda Expressions:\n",
    "1. Lack of Names and Documentation: Lambda functions lack names and docstrings, making it harder to understand their purpose.\n",
    "2. Single Statement Limitation: Lambdas can only contain one statement, limiting their use for more complex tasks.\n",
    "3. Readability: They can reduce code readability, especially for newcomers to Python.\n",
    "4. Limited Features: Certain language features (e.g., tuple unpacking) cannot be used within lambda expressions.\n",
    "5. Performance: In some cases, lambdas may impact performance due to their concise nature."
   ]
  },
  {
   "cell_type": "markdown",
   "id": "cbe2940c",
   "metadata": {},
   "source": [
    "Question 5. Are lambda functions in Python able to access variables defined outside of their own scope? Explain with an example."
   ]
  },
  {
   "cell_type": "markdown",
   "id": "398b9ac6",
   "metadata": {},
   "source": [
    "Ans. Lambda functions in Python can access variables defined outside of their own scope, but the behavior depends on whether those variables are defined in the enclosing namespace (such as global variables) or in the local scope of an enclosing function."
   ]
  },
  {
   "cell_type": "markdown",
   "id": "36a353b0",
   "metadata": {},
   "source": [
    "* Accessing Global Variables:\n",
    " Lambda functions can access global variables defined outside their scope. They can read the value of global variables, but they cannot directly modify them unless explicitly declared using the global keyword inside the lambda function."
   ]
  },
  {
   "cell_type": "code",
   "execution_count": 10,
   "id": "fac151d0",
   "metadata": {},
   "outputs": [],
   "source": [
    "#Example :\n",
    "\n",
    "g_variable = 10\n",
    "add= lambda x: x + g_variable"
   ]
  },
  {
   "cell_type": "code",
   "execution_count": 11,
   "id": "ef1a4156",
   "metadata": {},
   "outputs": [
    {
     "name": "stdout",
     "output_type": "stream",
     "text": [
      "15\n"
     ]
    }
   ],
   "source": [
    "answer = add(5)\n",
    "print(answer) "
   ]
  },
  {
   "cell_type": "markdown",
   "id": "cc716a79",
   "metadata": {},
   "source": [
    "* Accessing Enclosing Local Variables:\n",
    "If a lambda function is defined within the scope of another function, it can access variables from the enclosing function's scope. This behavior is similar to regular nested functions."
   ]
  },
  {
   "cell_type": "code",
   "execution_count": 12,
   "id": "72a4e822",
   "metadata": {},
   "outputs": [],
   "source": [
    "# Example :\n",
    "\n",
    "def outer_function():\n",
    "    outer_var = 20\n",
    "    inner= lambda x: x * outer_var\n",
    "    return inner"
   ]
  },
  {
   "cell_type": "code",
   "execution_count": 13,
   "id": "90f72a92",
   "metadata": {},
   "outputs": [],
   "source": [
    "my_lam_func = outer_function()"
   ]
  },
  {
   "cell_type": "code",
   "execution_count": 14,
   "id": "9b436b6c",
   "metadata": {},
   "outputs": [
    {
     "name": "stdout",
     "output_type": "stream",
     "text": [
      "60\n"
     ]
    }
   ],
   "source": [
    "answer = my_lam_func(3)\n",
    "print(answer)"
   ]
  },
  {
   "cell_type": "markdown",
   "id": "4ff0cd1b",
   "metadata": {},
   "source": [
    "  "
   ]
  },
  {
   "cell_type": "markdown",
   "id": "29265172",
   "metadata": {},
   "source": [
    "Question 6. Write a lambda function to calculate the square of a given number."
   ]
  },
  {
   "cell_type": "code",
   "execution_count": 15,
   "id": "3d34a1bf",
   "metadata": {},
   "outputs": [],
   "source": [
    "sq_lambda = lambda x: x**2"
   ]
  },
  {
   "cell_type": "code",
   "execution_count": 16,
   "id": "11d6ff5e",
   "metadata": {},
   "outputs": [
    {
     "name": "stdout",
     "output_type": "stream",
     "text": [
      "The square of 5 is: 25\n"
     ]
    }
   ],
   "source": [
    "number = 5\n",
    "answer = sq_lambda(number)\n",
    "print(f\"The square of {number} is: {answer}\")"
   ]
  },
  {
   "cell_type": "markdown",
   "id": "3bf2785f",
   "metadata": {},
   "source": [
    "  "
   ]
  },
  {
   "cell_type": "markdown",
   "id": "04e58bb6",
   "metadata": {},
   "source": [
    "Question 7. Create a lambda function to find the maximum value in a list of integers."
   ]
  },
  {
   "cell_type": "code",
   "execution_count": 17,
   "id": "2e82376c",
   "metadata": {},
   "outputs": [
    {
     "name": "stdout",
     "output_type": "stream",
     "text": [
      "The maximum value in the list is: 15\n"
     ]
    }
   ],
   "source": [
    "list1 = [10, 4, 8, 15, 3, 9, 12]\n",
    "max_value = max(list1, key=lambda x: x)\n",
    "\n",
    "print(f\"The maximum value in the list is: {max_value}\")"
   ]
  },
  {
   "cell_type": "markdown",
   "id": "a75c9941",
   "metadata": {},
   "source": [
    "  "
   ]
  },
  {
   "cell_type": "markdown",
   "id": "d3fef0fa",
   "metadata": {},
   "source": [
    "Question 8. Implement a lambda function to filter out all the even numbers from a list of integers."
   ]
  },
  {
   "cell_type": "code",
   "execution_count": 18,
   "id": "2689c2af",
   "metadata": {},
   "outputs": [
    {
     "name": "stdout",
     "output_type": "stream",
     "text": [
      "Original list of numbers : [10, 4, 8, 15, 3, 9, 12]\n",
      "Filtered list of even numbers : [10, 4, 8, 12]\n"
     ]
    }
   ],
   "source": [
    "list1 = [10, 4, 8, 15, 3, 9, 12]\n",
    "\n",
    "numbers = list(filter(lambda x: x % 2 == 0, list1))\n",
    "\n",
    "print(\"Original list of numbers :\", list1)\n",
    "print(\"Filtered list of even numbers :\",numbers)"
   ]
  },
  {
   "cell_type": "markdown",
   "id": "89160985",
   "metadata": {},
   "source": [
    "  "
   ]
  },
  {
   "cell_type": "markdown",
   "id": "360e813f",
   "metadata": {},
   "source": [
    "Question 9. Write a lambda function to sort a list of strings in ascending order based on the length of each string."
   ]
  },
  {
   "cell_type": "code",
   "execution_count": 20,
   "id": "b94daa45",
   "metadata": {},
   "outputs": [
    {
     "name": "stdout",
     "output_type": "stream",
     "text": [
      "Original list of strings : ['apple', 'banana', 'orange', 'kiwi', 'pear']\n",
      "Sorted list of strings by length (ascending order): ['kiwi', 'pear', 'apple', 'banana', 'orange']\n"
     ]
    }
   ],
   "source": [
    "values=[\"apple\", \"banana\", \"orange\", \"kiwi\", \"pear\"]\n",
    "\n",
    "sort_values = sorted(values, key=lambda x: len(x))\n",
    "\n",
    "print(\"Original list of strings :\",values)\n",
    "print(\"Sorted list of strings by length (ascending order):\", sort_values)"
   ]
  },
  {
   "cell_type": "markdown",
   "id": "7980e914",
   "metadata": {},
   "source": [
    "  "
   ]
  },
  {
   "cell_type": "markdown",
   "id": "455fbfdf",
   "metadata": {},
   "source": [
    "Question 10. Create a lambda function that takes two lists as input and returns a new list containing the common elements between the two lists."
   ]
  },
  {
   "cell_type": "code",
   "execution_count": 21,
   "id": "f7130798",
   "metadata": {},
   "outputs": [],
   "source": [
    "find_common_elements = lambda list1, list2: list(filter(lambda x: x in list1, list2))"
   ]
  },
  {
   "cell_type": "code",
   "execution_count": 22,
   "id": "016ee741",
   "metadata": {},
   "outputs": [],
   "source": [
    "list1 = [1, 2, 3, 4, 5]\n",
    "list2 = [3, 4, 5, 6, 7]\n",
    "\n",
    "answer= find_common_elements(list1, list2)"
   ]
  },
  {
   "cell_type": "code",
   "execution_count": 23,
   "id": "718a81d6",
   "metadata": {},
   "outputs": [
    {
     "name": "stdout",
     "output_type": "stream",
     "text": [
      "List 1: [1, 2, 3, 4, 5]\n",
      "List 2: [3, 4, 5, 6, 7]\n",
      "Common elements: [3, 4, 5]\n"
     ]
    }
   ],
   "source": [
    "print(\"List 1:\", list1)\n",
    "print(\"List 2:\", list2)\n",
    "print(\"Common elements:\", answer)"
   ]
  },
  {
   "cell_type": "markdown",
   "id": "2b2ab1c0",
   "metadata": {},
   "source": [
    "  "
   ]
  },
  {
   "cell_type": "markdown",
   "id": "cc448e88",
   "metadata": {},
   "source": [
    "Question 11. Write a recursive function to calculate the factorial of a given positive integer."
   ]
  },
  {
   "cell_type": "code",
   "execution_count": 24,
   "id": "c4226bdd",
   "metadata": {},
   "outputs": [],
   "source": [
    "def factorial(n):\n",
    "    if n == 0:\n",
    "        return 1\n",
    "    else:\n",
    "        return n * factorial(n - 1)"
   ]
  },
  {
   "cell_type": "code",
   "execution_count": 25,
   "id": "35817955",
   "metadata": {},
   "outputs": [
    {
     "name": "stdout",
     "output_type": "stream",
     "text": [
      "The factorial of 5 is: 120\n"
     ]
    }
   ],
   "source": [
    "number = 5\n",
    "answer = factorial(number)\n",
    "print(f\"The factorial of {number} is: {answer}\")"
   ]
  },
  {
   "cell_type": "markdown",
   "id": "83dccb14",
   "metadata": {},
   "source": [
    "\n",
    " "
   ]
  },
  {
   "cell_type": "markdown",
   "id": "12ba0e6b",
   "metadata": {},
   "source": [
    "Question 12. Implement a recursive function to compute the nth Fibonacci number."
   ]
  },
  {
   "cell_type": "code",
   "execution_count": 26,
   "id": "b5b66f27",
   "metadata": {},
   "outputs": [],
   "source": [
    "def fibonacci(n):\n",
    "    if n == 0:\n",
    "        return 0\n",
    "    elif n == 1:\n",
    "        return 1\n",
    "    else:\n",
    "        return fibonacci(n - 1) + fibonacci(n - 2)"
   ]
  },
  {
   "cell_type": "code",
   "execution_count": 28,
   "id": "4951042a",
   "metadata": {},
   "outputs": [
    {
     "name": "stdout",
     "output_type": "stream",
     "text": [
      "The 7th Fibonacci number is: 13\n"
     ]
    }
   ],
   "source": [
    "#Example 1\n",
    "n = 7 \n",
    "result = fibonacci(n)\n",
    "\n",
    "print(f\"The {n}th Fibonacci number is: {result}\")"
   ]
  },
  {
   "cell_type": "code",
   "execution_count": 29,
   "id": "9a32c97d",
   "metadata": {},
   "outputs": [
    {
     "name": "stdout",
     "output_type": "stream",
     "text": [
      "The 9th Fibonacci number is :34\n"
     ]
    }
   ],
   "source": [
    "#Example 2\n",
    "n=9\n",
    "answer=fibonacci(n)\n",
    "print(f\"The {n}th Fibonacci number is :{answer}\")"
   ]
  },
  {
   "cell_type": "markdown",
   "id": "991468b4",
   "metadata": {},
   "source": [
    "  "
   ]
  },
  {
   "cell_type": "markdown",
   "id": "96ad7956",
   "metadata": {},
   "source": [
    "Question 13. Create a recursive function to find the sum of all the elements in a given list."
   ]
  },
  {
   "cell_type": "code",
   "execution_count": 30,
   "id": "0f8b705c",
   "metadata": {},
   "outputs": [],
   "source": [
    "def recursive_list_sum(lst):\n",
    "    if not lst:\n",
    "        return 0\n",
    "    else:\n",
    "        return lst[0] + recursive_list_sum(lst[1:])"
   ]
  },
  {
   "cell_type": "code",
   "execution_count": 31,
   "id": "32ae8b78",
   "metadata": {},
   "outputs": [
    {
     "name": "stdout",
     "output_type": "stream",
     "text": [
      "The sum of all elements in the list [1, 2, 3, 4, 5, 6, 7, 8, 9, 10] is: 55\n"
     ]
    }
   ],
   "source": [
    "my_list = [1, 2, 3, 4, 5,6,7,8,9,10]\n",
    "result = recursive_list_sum(my_list)\n",
    "\n",
    "print(f\"The sum of all elements in the list {my_list} is: {result}\")"
   ]
  },
  {
   "cell_type": "markdown",
   "id": "b3bdfc4a",
   "metadata": {},
   "source": [
    "  "
   ]
  },
  {
   "cell_type": "markdown",
   "id": "75294ba4",
   "metadata": {},
   "source": [
    "Question 14. Write a recursive function to determine whether a given string is a palindrome."
   ]
  },
  {
   "cell_type": "code",
   "execution_count": 32,
   "id": "17b55509",
   "metadata": {},
   "outputs": [],
   "source": [
    "def is_palindrome(s):\n",
    "    if len(s) <= 1:\n",
    "        return True\n",
    "    else:\n",
    "        first_char = s[0]\n",
    "        last_char = s[-1]\n",
    "        if first_char == last_char:\n",
    "            \n",
    "            return is_palindrome(s[1:-1])\n",
    "        else:\n",
    "            return False"
   ]
  },
  {
   "cell_type": "code",
   "execution_count": 33,
   "id": "4b4cbd9a",
   "metadata": {},
   "outputs": [
    {
     "name": "stdout",
     "output_type": "stream",
     "text": [
      "True\n"
     ]
    }
   ],
   "source": [
    "print(is_palindrome(\"radar\"))"
   ]
  },
  {
   "cell_type": "code",
   "execution_count": 34,
   "id": "82c5ca9d",
   "metadata": {},
   "outputs": [
    {
     "name": "stdout",
     "output_type": "stream",
     "text": [
      "False\n"
     ]
    }
   ],
   "source": [
    "print(is_palindrome(\"hello_world\"))"
   ]
  },
  {
   "cell_type": "markdown",
   "id": "d4028716",
   "metadata": {},
   "source": [
    "  "
   ]
  },
  {
   "cell_type": "markdown",
   "id": "6758bc6f",
   "metadata": {},
   "source": [
    "Question 15. Implement a recursive function to find the greatest common divisor (GCD) of two positive integers."
   ]
  },
  {
   "cell_type": "code",
   "execution_count": 35,
   "id": "91e7d859",
   "metadata": {},
   "outputs": [],
   "source": [
    "def gcd(a, b):\n",
    "    if b == 0:\n",
    "        return a\n",
    "    else:\n",
    "        return gcd(b, a % b)"
   ]
  },
  {
   "cell_type": "code",
   "execution_count": 36,
   "id": "e3ee7ccb",
   "metadata": {},
   "outputs": [
    {
     "name": "stdout",
     "output_type": "stream",
     "text": [
      "The GCD of 24 and 18 is: 6\n"
     ]
    }
   ],
   "source": [
    "num1 = 24\n",
    "num2 = 18\n",
    "answer = gcd(num1, num2)\n",
    "\n",
    "print(f\"The GCD of {num1} and {num2} is: {answer}\")"
   ]
  }
 ],
 "metadata": {
  "kernelspec": {
   "display_name": "Python 3 (ipykernel)",
   "language": "python",
   "name": "python3"
  },
  "language_info": {
   "codemirror_mode": {
    "name": "ipython",
    "version": 3
   },
   "file_extension": ".py",
   "mimetype": "text/x-python",
   "name": "python",
   "nbconvert_exporter": "python",
   "pygments_lexer": "ipython3",
   "version": "3.11.4"
  }
 },
 "nbformat": 4,
 "nbformat_minor": 5
}
