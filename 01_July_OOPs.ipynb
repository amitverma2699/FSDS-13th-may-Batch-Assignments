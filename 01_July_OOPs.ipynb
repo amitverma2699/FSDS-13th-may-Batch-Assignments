{
 "cells": [
  {
   "cell_type": "markdown",
   "id": "d91501f9",
   "metadata": {},
   "source": [
    "Question1. What is the primary goal of Object-Oriented Programming (OOP) ?\n",
    "\n",
    "Ans.\n",
    "The primary goal of Object-Oriented Programming (OOP) is to organize and structure code in a way that promotes modularity, reusability, and maintainability. OOP is based on the concept of \"objects,\" which are instances of classes. "
   ]
  },
  {
   "cell_type": "markdown",
   "id": "64a56527",
   "metadata": {},
   "source": [
    " "
   ]
  },
  {
   "cell_type": "markdown",
   "id": "aea14578",
   "metadata": {},
   "source": [
    "Question2. What is an object in Python?\n",
    "\n",
    "Ans.\n",
    "In Python, an object is a runtime instance of a class. A class is a blueprint or a template for creating objects, and objects are instances of those classes. Every object in Python has an identity, a type, and a value."
   ]
  },
  {
   "cell_type": "markdown",
   "id": "7225af28",
   "metadata": {},
   "source": [
    " "
   ]
  },
  {
   "cell_type": "markdown",
   "id": "e8661b46",
   "metadata": {},
   "source": [
    "Question3. What is a class in Python?\n",
    "\n",
    "Ans. \n",
    "In Python, a class is a blueprint or a template for creating objects. It defines a set of attributes (variables) and methods (functions) that the objects created from the class will have. Classes provide a way to structure and organize code in an object-oriented manner."
   ]
  },
  {
   "cell_type": "markdown",
   "id": "83b34ad0",
   "metadata": {},
   "source": [
    " "
   ]
  },
  {
   "cell_type": "markdown",
   "id": "fa04038e",
   "metadata": {},
   "source": [
    "Question4.  What are attributes and methods in a class?\n",
    "\n",
    "Ans. 1.Attributes:- Attributes are variables that store data within an object. They represent the characteristics or properties of the object.\n",
    "\n",
    "2.Methods:- Methods are functions that are associated with an object. They define the behaviors or actions that an object can perform."
   ]
  },
  {
   "cell_type": "markdown",
   "id": "193eb28c",
   "metadata": {},
   "source": [
    "  "
   ]
  },
  {
   "cell_type": "markdown",
   "id": "0a012f3d",
   "metadata": {},
   "source": [
    "Question5.  What is the difference between class variables and instance variables in Python?\n",
    "\n",
    "Ans. 1.Class Variables:- Class variables are variables that are shared by all instances (objects) of a class. They are defined within the class but outside of any method.\n",
    "\n",
    "2.Instance Variables:-  Instance variables are variables that are unique to each instance of a class. They are defined within a class's methods, typically within the init method."
   ]
  },
  {
   "cell_type": "markdown",
   "id": "ec023d19",
   "metadata": {},
   "source": [
    "  "
   ]
  },
  {
   "cell_type": "markdown",
   "id": "8f75ee59",
   "metadata": {},
   "source": [
    "Question6.  What is the purpose of the self parameter in Python class methods?\n",
    "\n",
    "Ans. \n",
    "In Python, the self parameter in class methods serves as a reference to the instance of the class. It is a convention (the name \"self\" is not mandatory; you can use any name) that is widely followed to represent the instance on which a method is called. When defining a class method, you must include self as the first parameter, although it doesn't necessarily have to be named \"self\"."
   ]
  },
  {
   "cell_type": "markdown",
   "id": "0a06c8de",
   "metadata": {},
   "source": [
    " "
   ]
  },
  {
   "cell_type": "markdown",
   "id": "cc009469",
   "metadata": {},
   "source": [
    "Question7. For a library management system, you have to design the \"Book\" class with OOP\n",
    "principles in mind. The “Book” class will have following attributes:\n",
    "a. title: Represents the title of the book.\n",
    "b. author: Represents the author(s) of the book.\n",
    "c. isbn: Represents the ISBN (International Standard Book Number) of the book.\n",
    "d. publication_year: Represents the year of publication of the book.\n",
    "e. available_copies: Represents the number of copies available for checkout.\n",
    "The class will also include the following methods:\n",
    "a. check_out(self): Decrements the available copies by one if there are copies\n",
    "available for checkout.\n",
    "b. return_book(self): Increments the available copies by one when a book is\n",
    "returned.\n",
    "c. display_book_info(self): Displays the information about the book, including its\n",
    "attributes and the number of available copies."
   ]
  },
  {
   "cell_type": "markdown",
   "id": "0068d035",
   "metadata": {},
   "source": [
    "# Ans 7."
   ]
  },
  {
   "cell_type": "code",
   "execution_count": 48,
   "id": "9af5ae40",
   "metadata": {},
   "outputs": [],
   "source": [
    "class Book:\n",
    "    def __init__(self,title,author,isbn,publication_year,available_copies=0):\n",
    "        self.title=title\n",
    "        self.author=author\n",
    "        self.isbn=isbn\n",
    "        self.publication_year=publication_year\n",
    "        self.available_copies=available_copies\n",
    "        \n",
    "    def check_out(self,check_o):\n",
    "        if check_o<=self.available_copies:\n",
    "            self.available_copies-=check_o\n",
    "            \n",
    "        else:\n",
    "            print(\"No Record Found\")\n",
    "            \n",
    "    def return_book(self,check_i):\n",
    "        self.available_copies+=check_i\n",
    "        \n",
    "    def display_book_info(self):\n",
    "        return {\n",
    "            \"Title\":self.title,\n",
    "            \"Author\":self.author,\n",
    "            \"ISBN\":self.isbn,\n",
    "            \"Publication_year\":self.publication_year,\n",
    "            \"Availble_copies\":self.available_copies\n",
    "        }"
   ]
  },
  {
   "cell_type": "code",
   "execution_count": 49,
   "id": "956fce06",
   "metadata": {},
   "outputs": [],
   "source": [
    "book1=Book(\"Data Science\",\"Krish Naik\",9001,2023,100)"
   ]
  },
  {
   "cell_type": "code",
   "execution_count": 50,
   "id": "7d82bf36",
   "metadata": {},
   "outputs": [
    {
     "data": {
      "text/plain": [
       "{'Title': 'Data Science',\n",
       " 'Author': 'Krish Naik',\n",
       " 'ISBN': 9001,\n",
       " 'Publication_year': 2023,\n",
       " 'Availble_copies': 100}"
      ]
     },
     "execution_count": 50,
     "metadata": {},
     "output_type": "execute_result"
    }
   ],
   "source": [
    "book1.display_book_info()"
   ]
  },
  {
   "cell_type": "code",
   "execution_count": 51,
   "id": "ca937a93",
   "metadata": {},
   "outputs": [],
   "source": [
    "book1.check_out(10)"
   ]
  },
  {
   "cell_type": "code",
   "execution_count": 52,
   "id": "e89b45bd",
   "metadata": {},
   "outputs": [
    {
     "data": {
      "text/plain": [
       "{'Title': 'Data Science',\n",
       " 'Author': 'Krish Naik',\n",
       " 'ISBN': 9001,\n",
       " 'Publication_year': 2023,\n",
       " 'Availble_copies': 90}"
      ]
     },
     "execution_count": 52,
     "metadata": {},
     "output_type": "execute_result"
    }
   ],
   "source": [
    "book1.display_book_info()"
   ]
  },
  {
   "cell_type": "code",
   "execution_count": 53,
   "id": "4dcc727b",
   "metadata": {},
   "outputs": [],
   "source": [
    "book1.return_book(5)"
   ]
  },
  {
   "cell_type": "code",
   "execution_count": 54,
   "id": "b1389370",
   "metadata": {},
   "outputs": [
    {
     "data": {
      "text/plain": [
       "{'Title': 'Data Science',\n",
       " 'Author': 'Krish Naik',\n",
       " 'ISBN': 9001,\n",
       " 'Publication_year': 2023,\n",
       " 'Availble_copies': 95}"
      ]
     },
     "execution_count": 54,
     "metadata": {},
     "output_type": "execute_result"
    }
   ],
   "source": [
    "book1.display_book_info()"
   ]
  },
  {
   "cell_type": "markdown",
   "id": "98ef7c66",
   "metadata": {},
   "source": [
    " "
   ]
  },
  {
   "cell_type": "markdown",
   "id": "78638c79",
   "metadata": {},
   "source": [
    "Question8. For a ticket booking system, you have to design the \"Ticket\" class with OOP\n",
    "principles in mind. The “Ticket” class should have the following attributes:\n",
    "a. ticket_id: Represents the unique identifier for the ticket.\n",
    "b. event_name: Represents the name of the event.\n",
    "c. event_date: Represents the date of the event.\n",
    "d. venue: Represents the venue of the event.\n",
    "e. seat_number: Represents the seat number associated with the ticket.\n",
    "f. price: Represents the price of the ticket.\n",
    "g. is_reserved: Represents the reservation status of the ticket.\n",
    "The class also includes the following methods:\n",
    "a. reserve_ticket(self): Marks the ticket as reserved if it is not already reserved.\n",
    "b. cancel_reservation(self): Cancels the reservation of the ticket if it is already\n",
    "reserved.\n",
    "c. display_ticket_info(self): Displays the information about the ticket, including its\n",
    "attributes and reservation status"
   ]
  },
  {
   "cell_type": "markdown",
   "id": "489e7567",
   "metadata": {},
   "source": [
    "# Ans 8."
   ]
  },
  {
   "cell_type": "code",
   "execution_count": 55,
   "id": "8af36a78",
   "metadata": {},
   "outputs": [],
   "source": [
    "class Ticket:\n",
    "    def __init__(self,ticket_id,event_name,event_date,venue,seat_number,price):\n",
    "        self.ticket_id=ticket_id\n",
    "        self.event_name=event_name\n",
    "        self.event_date=event_date\n",
    "        self.venue=venue\n",
    "        self.seat_number=seat_number\n",
    "        self.price=price\n",
    "        self.is_reserved=False\n",
    "        \n",
    "    def reserve_ticket(self):\n",
    "        if not self.is_reserved:\n",
    "            self.is_reserved = True\n",
    "            print(f\"Ticket {self.ticket_id} has been reserved.\")\n",
    "            \n",
    "        else:\n",
    "            print(f\"Ticket {self.ticket_id} is already reserved.\")\n",
    "            \n",
    "    def cancel_reservation(self):\n",
    "        if self.is_reserved:\n",
    "            self.is_reserved=False\n",
    "            print(f\"Reservation for Ticket {self.ticket_id} has been canceled.\")\n",
    "        else:\n",
    "            print(f\"Ticket {self.ticket_id} is not reserved.\")\n",
    "            \n",
    "    def display_ticket_info(self):\n",
    "        reservation_status = \"Reserved\" if self.is_reserved else \"Not Reserved\"\n",
    "        return {\n",
    "            \"Ticket ID\": self.ticket_id,\n",
    "            \"Event Name\": self.event_name,\n",
    "            \"Event Date\": self.event_date,\n",
    "            \"Venue\": self.venue,\n",
    "            \"Seat Number\": self.seat_number,\n",
    "            \"Price\": self.price,\n",
    "            \"Reservation Status\":reservation_status\n",
    "        }\n",
    "              "
   ]
  },
  {
   "cell_type": "code",
   "execution_count": 56,
   "id": "952c7f05",
   "metadata": {},
   "outputs": [],
   "source": [
    "ticket1=Ticket(10,\"Concert\",2023-10-30,\"J.V.N Mall\",\"A12\",2500)"
   ]
  },
  {
   "cell_type": "code",
   "execution_count": 57,
   "id": "7e717b8a",
   "metadata": {},
   "outputs": [
    {
     "data": {
      "text/plain": [
       "{'Ticket ID': 10,\n",
       " 'Event Name': 'Concert',\n",
       " 'Event Date': 1983,\n",
       " 'Venue': 'J.V.N Mall',\n",
       " 'Seat Number': 'A12',\n",
       " 'Price': 2500,\n",
       " 'Reservation Status': 'Not Reserved'}"
      ]
     },
     "execution_count": 57,
     "metadata": {},
     "output_type": "execute_result"
    }
   ],
   "source": [
    "ticket1.display_ticket_info()"
   ]
  },
  {
   "cell_type": "code",
   "execution_count": 58,
   "id": "dfc2365b",
   "metadata": {},
   "outputs": [
    {
     "name": "stdout",
     "output_type": "stream",
     "text": [
      "Ticket 10 has been reserved.\n"
     ]
    }
   ],
   "source": [
    "ticket1.reserve_ticket()"
   ]
  },
  {
   "cell_type": "code",
   "execution_count": 59,
   "id": "c85a1d00",
   "metadata": {},
   "outputs": [
    {
     "data": {
      "text/plain": [
       "{'Ticket ID': 10,\n",
       " 'Event Name': 'Concert',\n",
       " 'Event Date': 1983,\n",
       " 'Venue': 'J.V.N Mall',\n",
       " 'Seat Number': 'A12',\n",
       " 'Price': 2500,\n",
       " 'Reservation Status': 'Reserved'}"
      ]
     },
     "execution_count": 59,
     "metadata": {},
     "output_type": "execute_result"
    }
   ],
   "source": [
    "ticket1.display_ticket_info()"
   ]
  },
  {
   "cell_type": "code",
   "execution_count": 60,
   "id": "68503cae",
   "metadata": {},
   "outputs": [
    {
     "name": "stdout",
     "output_type": "stream",
     "text": [
      "Reservation for Ticket 10 has been canceled.\n"
     ]
    }
   ],
   "source": [
    "ticket1.cancel_reservation()"
   ]
  },
  {
   "cell_type": "code",
   "execution_count": 61,
   "id": "94348800",
   "metadata": {},
   "outputs": [
    {
     "data": {
      "text/plain": [
       "{'Ticket ID': 10,\n",
       " 'Event Name': 'Concert',\n",
       " 'Event Date': 1983,\n",
       " 'Venue': 'J.V.N Mall',\n",
       " 'Seat Number': 'A12',\n",
       " 'Price': 2500,\n",
       " 'Reservation Status': 'Not Reserved'}"
      ]
     },
     "execution_count": 61,
     "metadata": {},
     "output_type": "execute_result"
    }
   ],
   "source": [
    "ticket1.display_ticket_info()"
   ]
  },
  {
   "cell_type": "markdown",
   "id": "ec37a06d",
   "metadata": {},
   "source": [
    " "
   ]
  },
  {
   "cell_type": "markdown",
   "id": "84b5da1c",
   "metadata": {},
   "source": [
    "Question9. You are creating a shopping cart for an e-commerce website. Using OOP to model\n",
    "the \"ShoppingCart\" functionality the class should contain following attributes and\n",
    "methods:\n",
    "a. items: Represents the list of items in the shopping cart.\n",
    "The class also includes the following methods:\n",
    "a. add_item(self, item): Adds an item to the shopping cart by appending it to the\n",
    "list of items.\n",
    "b. remove_item(self, item): Removes an item from the shopping cart if it exists in\n",
    "the list.\n",
    "c. view_cart(self): Displays the items currently present in the shopping cart.\n",
    "d. clear_cart(self): Clears all items from the shopping cart by reassigning an\n",
    "empty list to the items attribute."
   ]
  },
  {
   "cell_type": "markdown",
   "id": "ca3f4fa6",
   "metadata": {},
   "source": [
    "# Ans 9."
   ]
  },
  {
   "cell_type": "code",
   "execution_count": 62,
   "id": "49794d2e",
   "metadata": {},
   "outputs": [],
   "source": [
    "class ShoppingCart:\n",
    "    def __init__(self):\n",
    "        self.items=[]\n",
    "        \n",
    "    def add_item(self,item):\n",
    "        self.items.append(item)\n",
    "        print(f\"{self.items} has been added\")\n",
    "        \n",
    "    def remove_item(self,item):\n",
    "        if item in self.items:\n",
    "            self.items.remove(item)\n",
    "            \n",
    "        else:\n",
    "            print(\"Items not exist\")\n",
    "            \n",
    "    def view_cart(self):\n",
    "        if not self.items:\n",
    "            print(\"Your Cart is Empty\")\n",
    "            \n",
    "        else:\n",
    "            print(\"Items in the Shoppng Cart\")\n",
    "            for item in self.items:\n",
    "                print(f\"-{item}\")\n",
    "        \n",
    "        \n",
    "    def clear_cart(self):\n",
    "        self.items.clear()\n",
    "        print(\"Your cart is now empty\")"
   ]
  },
  {
   "cell_type": "code",
   "execution_count": 63,
   "id": "a5e88888",
   "metadata": {},
   "outputs": [],
   "source": [
    "shop=ShoppingCart()"
   ]
  },
  {
   "cell_type": "code",
   "execution_count": 64,
   "id": "c1549239",
   "metadata": {},
   "outputs": [
    {
     "name": "stdout",
     "output_type": "stream",
     "text": [
      "Your Cart is Empty\n"
     ]
    }
   ],
   "source": [
    "shop.view_cart()"
   ]
  },
  {
   "cell_type": "code",
   "execution_count": 65,
   "id": "7996545c",
   "metadata": {},
   "outputs": [
    {
     "name": "stdout",
     "output_type": "stream",
     "text": [
      "['mango'] has been added\n"
     ]
    }
   ],
   "source": [
    "shop.add_item('mango')"
   ]
  },
  {
   "cell_type": "code",
   "execution_count": 66,
   "id": "13834e70",
   "metadata": {},
   "outputs": [
    {
     "data": {
      "text/plain": [
       "['mango']"
      ]
     },
     "execution_count": 66,
     "metadata": {},
     "output_type": "execute_result"
    }
   ],
   "source": [
    "shop.items"
   ]
  },
  {
   "cell_type": "code",
   "execution_count": 67,
   "id": "02120c28",
   "metadata": {},
   "outputs": [
    {
     "name": "stdout",
     "output_type": "stream",
     "text": [
      "['mango', 'kiwi'] has been added\n"
     ]
    }
   ],
   "source": [
    "shop.add_item('kiwi')"
   ]
  },
  {
   "cell_type": "code",
   "execution_count": 68,
   "id": "391c862e",
   "metadata": {},
   "outputs": [
    {
     "name": "stdout",
     "output_type": "stream",
     "text": [
      "Items in the Shoppng Cart\n",
      "-mango\n",
      "-kiwi\n"
     ]
    }
   ],
   "source": [
    "shop.view_cart()"
   ]
  },
  {
   "cell_type": "code",
   "execution_count": 69,
   "id": "2485e5c6",
   "metadata": {},
   "outputs": [
    {
     "name": "stdout",
     "output_type": "stream",
     "text": [
      "Your cart is now empty\n"
     ]
    }
   ],
   "source": [
    "shop.clear_cart()"
   ]
  },
  {
   "cell_type": "markdown",
   "id": "e39f91ba",
   "metadata": {},
   "source": [
    " "
   ]
  },
  {
   "cell_type": "markdown",
   "id": "99e4ee9a",
   "metadata": {},
   "source": [
    "Question 10. Imagine a school management system. You have to design the \"Student\" class using\n",
    "OOP concepts.The “Student” class has the following attributes:\n",
    "a. name: Represents the name of the student.\n",
    "b. age: Represents the age of the student.\n",
    "c. grade: Represents the grade or class of the student.\n",
    "d. student_id: Represents the unique identifier for the student.\n",
    "e. attendance: Represents the attendance record of the student.\n",
    "The class should also include the following methods:\n",
    "a. update_attendance(self, date, status): Updates the attendance record of the\n",
    "student for a given date with the provided status (e.g., present or absent).\n",
    "b. get_attendance(self): Returns the attendance record of the student.\n",
    "c. get_average_attendance(self): Calculates and returns the average\n",
    "attendance percentage of the student based on their attendance record.\n"
   ]
  },
  {
   "cell_type": "markdown",
   "id": "80b7cde4",
   "metadata": {},
   "source": [
    "# Ans 10."
   ]
  },
  {
   "cell_type": "code",
   "execution_count": 2,
   "id": "f1144880",
   "metadata": {},
   "outputs": [],
   "source": [
    "class Student:\n",
    "    def __init__(self,name,age,grade,student_id):\n",
    "        self.name=name\n",
    "        self.age=age\n",
    "        self.grade=grade\n",
    "        self.student_id=student_id\n",
    "        self.attendance={}\n",
    "        \n",
    "    def update_attendance(self,date,status):\n",
    "        self.attendance[date]=status\n",
    "        print(f\"Attendance for {self.name} on {date} has been updated to {status}.\")\n",
    "        \n",
    "    def get_attendance(self):\n",
    "        return self.attendance\n",
    "    \n",
    "    def get_avg_attendance(self):\n",
    "        if not self.attendance:\n",
    "            return 0.0  # Avoid division by zero\n",
    "\n",
    "        total_days = len(self.attendance)\n",
    "        present_days = sum(1 for status in self.attendance.values() if status.lower() == 'present')\n",
    "        average_percentage = (present_days / total_days) * 100\n",
    "        return round(average_percentage, 2)\n",
    "    \n"
   ]
  },
  {
   "cell_type": "code",
   "execution_count": 3,
   "id": "5c8044e4",
   "metadata": {},
   "outputs": [],
   "source": [
    "student1=Student(\"Amit\",24,\"A\",101)"
   ]
  },
  {
   "cell_type": "code",
   "execution_count": 4,
   "id": "62610823",
   "metadata": {},
   "outputs": [],
   "source": [
    "student2=Student(\"Rahul\",23,\"B\",102)"
   ]
  },
  {
   "cell_type": "code",
   "execution_count": 15,
   "id": "ddf9bc52",
   "metadata": {},
   "outputs": [
    {
     "name": "stdout",
     "output_type": "stream",
     "text": [
      "Attendance for Amit on 2023-11-05 has been updated to Absent.\n",
      "Attendance for Rahul on 2023-11-05 has been updated to Absent.\n"
     ]
    }
   ],
   "source": [
    "student1.update_attendance(\"2023-11-05\",\"Absent\")\n",
    "student2.update_attendance(\"2023-11-05\",\"Absent\")"
   ]
  },
  {
   "cell_type": "code",
   "execution_count": 16,
   "id": "8b4bab91",
   "metadata": {},
   "outputs": [
    {
     "data": {
      "text/plain": [
       "{'2023-11-01': 'Present',\n",
       " '2023-11-02': 'Present',\n",
       " '2023-11-03': 'Present',\n",
       " '2023-11-04': 'Absent',\n",
       " '2023-11-05': 'Absent'}"
      ]
     },
     "execution_count": 16,
     "metadata": {},
     "output_type": "execute_result"
    }
   ],
   "source": [
    "student1.get_attendance()"
   ]
  },
  {
   "cell_type": "code",
   "execution_count": 17,
   "id": "27ef5ff0",
   "metadata": {},
   "outputs": [
    {
     "data": {
      "text/plain": [
       "{'2023-11-01': 'Present',\n",
       " '2023-11-02': 'Absent',\n",
       " '2023-11-03': 'Present',\n",
       " '2023-11-04': 'Present',\n",
       " '2023-11-05': 'Absent'}"
      ]
     },
     "execution_count": 17,
     "metadata": {},
     "output_type": "execute_result"
    }
   ],
   "source": [
    "student2.get_attendance()"
   ]
  },
  {
   "cell_type": "code",
   "execution_count": 18,
   "id": "b30fc577",
   "metadata": {},
   "outputs": [
    {
     "name": "stdout",
     "output_type": "stream",
     "text": [
      "Amit's average attendance: 60.0%\n"
     ]
    }
   ],
   "source": [
    "print(f\"{student1.name}'s average attendance: {student1.get_avg_attendance()}%\")"
   ]
  },
  {
   "cell_type": "code",
   "execution_count": 19,
   "id": "e6d5b7a0",
   "metadata": {},
   "outputs": [
    {
     "name": "stdout",
     "output_type": "stream",
     "text": [
      "Rahul's average attendance: 60.0%\n"
     ]
    }
   ],
   "source": [
    "print(f\"{student2.name}'s average attendance: {student2.get_avg_attendance()}%\")"
   ]
  }
 ],
 "metadata": {
  "kernelspec": {
   "display_name": "Python 3 (ipykernel)",
   "language": "python",
   "name": "python3"
  },
  "language_info": {
   "codemirror_mode": {
    "name": "ipython",
    "version": 3
   },
   "file_extension": ".py",
   "mimetype": "text/x-python",
   "name": "python",
   "nbconvert_exporter": "python",
   "pygments_lexer": "ipython3",
   "version": "3.11.4"
  }
 },
 "nbformat": 4,
 "nbformat_minor": 5
}
