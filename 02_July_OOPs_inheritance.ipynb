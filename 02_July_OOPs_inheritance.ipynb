{
 "cells": [
  {
   "cell_type": "markdown",
   "id": "710e442a",
   "metadata": {},
   "source": [
    "Question1. Explain what inheritance is in object-oriented programming and why it is used.\n",
    "\n",
    "Ans. Inheritance is a mechanism that allows one class to inherit the properties and behaviors of another class. The class that is inherited from is called the parent class or base class, and the class that inherits is called the child class or derived class.\n",
    "\n",
    "Some reasons why inheritance is used in object-oriented programming:-\n",
    "1. Code Reusability\n",
    "2. Extensibility\n",
    "3. Organizing Code\n",
    "4. Polymorphism"
   ]
  },
  {
   "cell_type": "markdown",
   "id": "33ecfa96",
   "metadata": {},
   "source": [
    " "
   ]
  },
  {
   "cell_type": "markdown",
   "id": "ed11852e",
   "metadata": {},
   "source": [
    "Question2. Discuss the concept of single inheritance and multiple inheritance, highlighting their\n",
    "differences and advantages.\n",
    "\n",
    "Ans. Single Inheritance:- In single inheritance, a class can inherit from only one base class.Each class in the hierarchy is derived from a single parent class.\n",
    "\n",
    "Advantages:-\n",
    "1. Simplicity\n",
    "2. Less Ambiguity\n",
    "\n",
    "Multiple Inheritance:-In multiple inheritance, a class can inherit from more than one base class.A class can have multiple parent classes.\n",
    "\n",
    "Advantages:-\n",
    "1. Increased Reusability\n",
    "2. Flexibility\n",
    "\n",
    "\n",
    "Here is some differences:-\n",
    "\n",
    "1. Number of Base Classes:\n",
    "\n",
    "Single Inheritance: One base class per derived class.\n",
    "Multiple Inheritance: Multiple base classes per derived class.\n",
    "\n",
    "2. Class Hierarchy:\n",
    "\n",
    "Single Inheritance: Linear hierarchy.\n",
    "Multiple Inheritance: Can result in a more complex hierarchy, especially in cases of deep inheritance or the diamond problem.\n",
    "\n",
    "3. Code Reusability:\n",
    "\n",
    "Single Inheritance: Limited reusability as a class can inherit from only one source.\n",
    "Multiple Inheritance: Increased reusability as a class can inherit features from multiple sources.\n",
    "4. Method Resolution:\n",
    "\n",
    "Single Inheritance: Method resolution is straightforward with a linear hierarchy.\n",
    "Multiple Inheritance: Potential for method name conflicts and the need for a mechanism to resolve ambiguities (e.g., the order of base classes in the inheritance list).\n",
    "\n",
    "5. Flexibility:\n",
    "\n",
    "Single Inheritance: Less flexible in terms of incorporating features from different sources.\n",
    "Multiple Inheritance: More flexible, allowing a class to inherit attributes and behaviors from multiple classes.\n",
    "\n",
    "6. Complexity:\n",
    "\n",
    "Single Inheritance: Simpler to understand and maintain.\n",
    "Multiple Inheritance: Can lead to a more complex class hierarchy and may require careful design to manage complexity.\n",
    "\n",
    "\n"
   ]
  },
  {
   "cell_type": "markdown",
   "id": "815c4481",
   "metadata": {},
   "source": [
    " "
   ]
  },
  {
   "cell_type": "markdown",
   "id": "0001bf59",
   "metadata": {},
   "source": [
    "Question3. Explain the terms \"base class\" and \"derived class\" in the context of inheritance.\n",
    "\n",
    "Ans. The terms \"base class\" and \"derived class\" refer to the relationship between two classes where one class provides the foundation or common behavior, and another class inherits from it, acquiring those characteristics and potentially adding or modifying them.\n",
    "\n",
    "Base Class (Parent Class):-The class whose properties and methods are inherited by another class.It serves as a template or blueprint for the derived class.Also known as the \"parent class\" or \"superclass.\"The base class defines common attributes and behaviors shared by multiple classes.\n",
    "\n",
    "Derived Class (Child Class):-The class that inherits properties and methods from another class.It is built upon an existing class, extending or modifying its functionality.Also known as the \"child class\" or \"subclass.\"The derived class can have its own attributes and methods in addition to those inherited from the base class."
   ]
  },
  {
   "cell_type": "markdown",
   "id": "82f18032",
   "metadata": {},
   "source": [
    " "
   ]
  },
  {
   "cell_type": "markdown",
   "id": "a92aa4d0",
   "metadata": {},
   "source": [
    "Question4. What is the significance of the \"protected\" access modifier in inheritance? How doesit differ from \"private\" and \"public\" modifiers?\n",
    "\n",
    "Ans. Protected Access Modifier:-\n",
    "\n",
    "Significance:-\n",
    "Members with the \"protected\" access modifier are accessible within the class, its subclasses (derived classes), and within the same module.The convention is to prefix the name of a protected member with a single underscore ('_').\n",
    "\n",
    "Here is the difference :-\n",
    "\n",
    "1. Visibility:\n",
    "Public: Accessible from anywhere.\n",
    "Protected: Accessible within the class, its subclasses, and the same module.\n",
    "Private: Accessible only within the class.\n",
    "\n",
    "2. Naming Convention:\n",
    "Public: No specific naming convention.\n",
    "Protected: Conventionally starts with a single underscore (_).\n",
    "Private: Conventionally starts with a double underscore (__).\n",
    "\n",
    "3. Inheritance:\n",
    "Public: Inherited by subclasses.\n",
    "Protected: Inherited by subclasses.\n",
    "Private: Not directly inherited by subclasses. However, it can affect name mangling, making it still accessible with a modified name."
   ]
  },
  {
   "cell_type": "markdown",
   "id": "2b8c3f2b",
   "metadata": {},
   "source": [
    " "
   ]
  },
  {
   "cell_type": "markdown",
   "id": "3ded22a6",
   "metadata": {},
   "source": [
    "Question5. What is the purpose of the \"super\" keyword in inheritance? Provide an example.\n",
    "\n",
    "Ans.It is particularly useful when you want to call a method or access an attribute from the parent class in a derived class. By using 'super', you can avoid explicitly naming the parent class, making your code more flexible and easier to maintain, especially in cases of multiple inheritance."
   ]
  },
  {
   "cell_type": "code",
   "execution_count": 2,
   "id": "60c309f2",
   "metadata": {},
   "outputs": [],
   "source": [
    "#Example of Super().\n",
    "\n",
    "class Person:   #Parent class\n",
    "    def __init__(self,name):\n",
    "        self.name=name\n",
    "        \n",
    "    def display_info(self):\n",
    "        print(f\"Name is : {self.name}\")\n",
    "        \n",
    "        \n",
    "class Student(Person):   #Child class\n",
    "    def __init__(self,name,grade):\n",
    "        super().__init__(name) #Using super to call the constructor of the parent class\n",
    "        self.grade=grade\n",
    "        \n",
    "    def display_info(self):\n",
    "        super().display_info()\n",
    "        print(f\"Grade is : {self.grade}\")"
   ]
  },
  {
   "cell_type": "code",
   "execution_count": 3,
   "id": "32e8e3f4",
   "metadata": {},
   "outputs": [],
   "source": [
    "person=Person(\"Amit\")"
   ]
  },
  {
   "cell_type": "code",
   "execution_count": 4,
   "id": "96fc8025",
   "metadata": {},
   "outputs": [
    {
     "name": "stdout",
     "output_type": "stream",
     "text": [
      "Name is : Amit\n"
     ]
    }
   ],
   "source": [
    "person.display_info()"
   ]
  },
  {
   "cell_type": "code",
   "execution_count": 5,
   "id": "3e891481",
   "metadata": {},
   "outputs": [],
   "source": [
    "student=Student(\"Krish\",\"A\")"
   ]
  },
  {
   "cell_type": "code",
   "execution_count": 6,
   "id": "e19b730c",
   "metadata": {},
   "outputs": [
    {
     "name": "stdout",
     "output_type": "stream",
     "text": [
      "Name is : Krish\n",
      "Grade is : A\n"
     ]
    }
   ],
   "source": [
    "student.display_info()"
   ]
  },
  {
   "cell_type": "markdown",
   "id": "35b31dd9",
   "metadata": {},
   "source": [
    "Question6. Create a base class called \"Vehicle\" with attributes like \"make\", \"model\", and \"year\".Then, create a derived class called \"Car\" that inherits from \"Vehicle\" and adds anattribute called \"fuel_type\". Implement appropriate methods in both classes."
   ]
  },
  {
   "cell_type": "code",
   "execution_count": 30,
   "id": "1e0805f2",
   "metadata": {},
   "outputs": [],
   "source": [
    "#Ans.6 \n",
    "class Vehicle:\n",
    "    def __init__(self,make,model,year):\n",
    "        self.make=make\n",
    "        self.model=model\n",
    "        self.year=year\n",
    "        \n",
    "    def display_info(self):\n",
    "        print(f\"This {self.model} make {self.make} in {self.year}\")\n",
    "        \n",
    "class Car(Vehicle):\n",
    "    def __init__(self,make,model,year,fuel_type):\n",
    "        super().__init__(make,model,year)\n",
    "        self.fuel_type=fuel_type\n",
    "        \n",
    "    def display_info(self):\n",
    "        super().display_info()\n",
    "        print(f\"Fuel Type : {self.fuel_type}\")"
   ]
  },
  {
   "cell_type": "code",
   "execution_count": 11,
   "id": "5c7ae1c7",
   "metadata": {},
   "outputs": [],
   "source": [
    "vehicle=Vehicle(\"Amit\",\"Audi G Series\",\"2023\")"
   ]
  },
  {
   "cell_type": "code",
   "execution_count": 12,
   "id": "c19c2dc0",
   "metadata": {},
   "outputs": [
    {
     "name": "stdout",
     "output_type": "stream",
     "text": [
      "This Audi G Series make Amit in 2023\n"
     ]
    }
   ],
   "source": [
    "vehicle.display_info()"
   ]
  },
  {
   "cell_type": "code",
   "execution_count": 13,
   "id": "30179b76",
   "metadata": {},
   "outputs": [],
   "source": [
    "car=Car(\"Sunny\",\"BMW\",2023,\"Petrol\")"
   ]
  },
  {
   "cell_type": "code",
   "execution_count": 14,
   "id": "1e0e5224",
   "metadata": {},
   "outputs": [
    {
     "name": "stdout",
     "output_type": "stream",
     "text": [
      "This BMW make Sunny in 2023\n",
      "Fuel Type : Petrol\n"
     ]
    }
   ],
   "source": [
    "car.display_info()"
   ]
  },
  {
   "cell_type": "markdown",
   "id": "fed65eff",
   "metadata": {},
   "source": [
    "  "
   ]
  },
  {
   "cell_type": "markdown",
   "id": "c399f772",
   "metadata": {},
   "source": [
    "Question7. Create a base class called \"Employee\" with attributes like \"name\" and \"salary.\"Derive two classes, \"Manager\" and \"Developer,\" from \"Employee.\" Add an additional attribute called \"department\" for the \"Manager\" class and \"programming_language\"\n",
    "for the \"Developer\" class."
   ]
  },
  {
   "cell_type": "code",
   "execution_count": 31,
   "id": "4483d341",
   "metadata": {},
   "outputs": [],
   "source": [
    "#Ans. 7\n",
    "class Employee:\n",
    "    def __init__(self,name,salary):\n",
    "        self.name=name\n",
    "        self.salary=salary\n",
    "        print(f\"Name: {self.name} And Salary: {self.salary}\")\n",
    "        \n",
    "class Manager(Employee):\n",
    "    def __init__(self,name,salary,department):\n",
    "        super().__init__(name,salary)\n",
    "        self.department=department\n",
    "        print(f\"Department: {self.department}\")\n",
    "        \n",
    "class Developer(Employee):\n",
    "    def __init__(self,name,salary,programming_language):\n",
    "        super().__init__(name,salary)\n",
    "        self.programming_language=programming_language\n",
    "        print(f\"Programming Language : {self.programming_language}\")"
   ]
  },
  {
   "cell_type": "code",
   "execution_count": 27,
   "id": "e0d44964",
   "metadata": {},
   "outputs": [
    {
     "name": "stdout",
     "output_type": "stream",
     "text": [
      "Name: Sunny And Salary: 200000\n"
     ]
    }
   ],
   "source": [
    "employee=Employee(\"Sunny\",200000)"
   ]
  },
  {
   "cell_type": "code",
   "execution_count": 28,
   "id": "3ad24b6a",
   "metadata": {},
   "outputs": [
    {
     "name": "stdout",
     "output_type": "stream",
     "text": [
      "Name: Rahul And Salary: 40000\n",
      "Department: Data Science\n"
     ]
    }
   ],
   "source": [
    "manager=Manager(\"Rahul\",40000,\"Data Science\")"
   ]
  },
  {
   "cell_type": "code",
   "execution_count": 29,
   "id": "8bac1a60",
   "metadata": {},
   "outputs": [
    {
     "name": "stdout",
     "output_type": "stream",
     "text": [
      "Name: Amit And Salary: 45000\n",
      "Programming Language : Python\n"
     ]
    }
   ],
   "source": [
    "developer=Developer(\"Amit\",45000,\"Python\")"
   ]
  },
  {
   "cell_type": "markdown",
   "id": "14930d2f",
   "metadata": {},
   "source": [
    "Question8. Design a base class called \"Shape\" with attributes like \"colour\" and \"border_width.\"Create derived classes, \"Rectangle\" and \"Circle,\" that inherit from \"Shape\" and add specific attributes like \"length\" and \"width\" for the \"Rectangle\" class and \"radius\" forthe \"Circle\" class."
   ]
  },
  {
   "cell_type": "code",
   "execution_count": 37,
   "id": "c8c33daa",
   "metadata": {},
   "outputs": [],
   "source": [
    "#Ans. 8\n",
    "class Shape:\n",
    "    def __init__(self,color,border_width):\n",
    "        self.color=color\n",
    "        self.border_width=border_width\n",
    "        print(f\"Color: {self.color}\")\n",
    "        print(f\"Border Width: {self.border_width}\")\n",
    "\n",
    "        \n",
    "class Rectangle(Shape):\n",
    "    def __init__(self,color,border_width,length,width):\n",
    "        super().__init__(color,border_width)\n",
    "        self.length=length\n",
    "        self.width=width\n",
    "        print(f\"Rectangle Length: {self.length}\")\n",
    "        print(f\"Rectangle Width: {self.width}\")\n",
    "        \n",
    "        \n",
    "class Circle(Shape):\n",
    "    def __init__(self,color,border_width,radius):\n",
    "        super().__init__(color,border_width)\n",
    "        self.radius=radius\n",
    "        print(f\"Radius of Circle: {self.radius}\")"
   ]
  },
  {
   "cell_type": "code",
   "execution_count": 38,
   "id": "3b79463a",
   "metadata": {},
   "outputs": [
    {
     "name": "stdout",
     "output_type": "stream",
     "text": [
      "Color: Green\n",
      "Border Width: 5\n"
     ]
    }
   ],
   "source": [
    "shape=Shape(\"Green\",5)\n"
   ]
  },
  {
   "cell_type": "code",
   "execution_count": 39,
   "id": "fd9c6e4f",
   "metadata": {},
   "outputs": [
    {
     "name": "stdout",
     "output_type": "stream",
     "text": [
      "Color: Red\n",
      "Border Width: 4\n",
      "Rectangle Length: 10\n",
      "Rectangle Width: 2\n"
     ]
    }
   ],
   "source": [
    "rectangle=Rectangle(\"Red\",4,10,2)"
   ]
  },
  {
   "cell_type": "code",
   "execution_count": 40,
   "id": "8e5dcbc5",
   "metadata": {},
   "outputs": [
    {
     "name": "stdout",
     "output_type": "stream",
     "text": [
      "Color: Blue\n",
      "Border Width: 3\n",
      "Radius of Circle: 3.12\n"
     ]
    }
   ],
   "source": [
    "circle=Circle(\"Blue\",3,3.12)"
   ]
  },
  {
   "cell_type": "markdown",
   "id": "d07eea50",
   "metadata": {},
   "source": [
    "Question. 9 Create a base class called \"Device\" with attributes like \"brand\" and \"model.\" Derive two classes, \"Phone\" and \"Tablet,\" from \"Device.\" Add specific attributes like\"screen_size\" for the \"Phone\" class and \"battery_capacity\" for the \"Tablet\" class."
   ]
  },
  {
   "cell_type": "code",
   "execution_count": 45,
   "id": "c5943302",
   "metadata": {},
   "outputs": [],
   "source": [
    "#Ans. 9\n",
    "\n",
    "class Device:\n",
    "    def __init__(self,brand,model):\n",
    "        self.brand=brand\n",
    "        self.model=model\n",
    "        print(f\"Brand : {self.brand}\")\n",
    "        print(f\"Model : {self.model}\")\n",
    "\n",
    "        \n",
    "class Phone(Device):\n",
    "    def __init__(self,brand,model,screen_size):\n",
    "        super().__init__(brand,model)\n",
    "        self.screen_size=screen_size\n",
    "        print(f\"Screen Size : {self.screen_size}\")\n",
    "        \n",
    "        \n",
    "class Tablet(Device):\n",
    "    def __init__(self,brand,model,battery_capacity):\n",
    "        super().__init__(brand,model)\n",
    "        self.battery_capacity=battery_capacity\n",
    "        print(f\"Battery Capacity : {self.battery_capacity}\")"
   ]
  },
  {
   "cell_type": "code",
   "execution_count": 46,
   "id": "7a4711eb",
   "metadata": {},
   "outputs": [
    {
     "name": "stdout",
     "output_type": "stream",
     "text": [
      "Brand : Apple\n",
      "Model : Mac\n"
     ]
    }
   ],
   "source": [
    "device=Device(\"Apple\",\"Mac\")"
   ]
  },
  {
   "cell_type": "code",
   "execution_count": 47,
   "id": "ab542c4b",
   "metadata": {},
   "outputs": [
    {
     "name": "stdout",
     "output_type": "stream",
     "text": [
      "Brand : Mi\n",
      "Model : Note 13 Series\n",
      "Screen Size : 6.7\n"
     ]
    }
   ],
   "source": [
    "phone=Phone(\"Mi\",\"Note 13 Series\",6.7)"
   ]
  },
  {
   "cell_type": "code",
   "execution_count": 48,
   "id": "8644b9c5",
   "metadata": {},
   "outputs": [
    {
     "name": "stdout",
     "output_type": "stream",
     "text": [
      "Brand : Samsung\n",
      "Model : Galaxy\n",
      "Battery Capacity : 7000 MAH\n"
     ]
    }
   ],
   "source": [
    "tablet=Tablet(\"Samsung\",\"Galaxy\",\"7000 MAH\")"
   ]
  },
  {
   "cell_type": "markdown",
   "id": "60d20c63",
   "metadata": {},
   "source": [
    "Question 10. Create a base class called \"BankAccount\" with attributes like \"account_number\" and \"balance.\" Derive two classes, \"SavingsAccount\" and \"CheckingAccount,\" from \"BankAccount.\" Add specific methods like \"calculate_interest\" for the \"SavingsAccount\" class and \"deduct_fees\" for the \"CheckingAccount\" class."
   ]
  },
  {
   "cell_type": "code",
   "execution_count": 56,
   "id": "84fdeb6c",
   "metadata": {},
   "outputs": [],
   "source": [
    "#Ans. 10\n",
    "class BankAccount:\n",
    "    def __init__(self, account_number, balance):\n",
    "        self.account_number = account_number\n",
    "        self.balance = balance\n",
    "\n",
    "    def display_info(self):\n",
    "        print(f\"Account Number: {self.account_number}\")\n",
    "        print(f\"Balance: {self.balance:.2f}\")\n",
    "\n",
    "class SavingsAccount(BankAccount):\n",
    "    def __init__(self, account_number, balance, interest_rate):\n",
    "        super().__init__(account_number, balance)\n",
    "        self.interest_rate = interest_rate\n",
    "\n",
    "    def calculate_interest(self):\n",
    "        interest = self.balance * (self.interest_rate / 100)\n",
    "        self.balance += interest\n",
    "        print(f\"Interest calculated: {interest:.2f}\")\n",
    "\n",
    "class CheckingAccount(BankAccount):\n",
    "    def __init__(self, account_number, balance, fee_per_transaction):\n",
    "        super().__init__(account_number, balance)\n",
    "        self.fee_per_transaction = fee_per_transaction\n",
    "\n",
    "    def deduct_fees(self, num_transactions):\n",
    "        fees = self.fee_per_transaction * num_transactions\n",
    "        self.balance -= fees\n",
    "        print(f\"Fees deducted for {num_transactions} transactions: {fees:.2f}\")\n"
   ]
  },
  {
   "cell_type": "code",
   "execution_count": 57,
   "id": "9bd01362",
   "metadata": {},
   "outputs": [],
   "source": [
    "savings_account = SavingsAccount(account_number=\"SA123\", balance=1000, interest_rate=3.5)"
   ]
  },
  {
   "cell_type": "code",
   "execution_count": 58,
   "id": "20a231a7",
   "metadata": {},
   "outputs": [
    {
     "name": "stdout",
     "output_type": "stream",
     "text": [
      "Savings Account Information:\n",
      "Account Number: SA123\n",
      "Balance: 1000.00\n",
      "Interest calculated: 35.00\n",
      "Account Number: SA123\n",
      "Balance: 1035.00\n"
     ]
    }
   ],
   "source": [
    "print(\"Savings Account Information:\")\n",
    "savings_account.display_info()\n",
    "savings_account.calculate_interest()\n",
    "savings_account.display_info()"
   ]
  },
  {
   "cell_type": "code",
   "execution_count": 59,
   "id": "65d566f0",
   "metadata": {},
   "outputs": [],
   "source": [
    "checking_account = CheckingAccount(account_number=\"CA456\", balance=1500, fee_per_transaction=1.5)"
   ]
  },
  {
   "cell_type": "code",
   "execution_count": 60,
   "id": "1cbe58ca",
   "metadata": {},
   "outputs": [
    {
     "name": "stdout",
     "output_type": "stream",
     "text": [
      "Checking Account Information:\n",
      "Account Number: CA456\n",
      "Balance: 1500.00\n",
      "Fees deducted for 3 transactions: 4.50\n",
      "Account Number: CA456\n",
      "Balance: 1495.50\n"
     ]
    }
   ],
   "source": [
    "print(\"Checking Account Information:\")\n",
    "checking_account.display_info()\n",
    "checking_account.deduct_fees(num_transactions=3)\n",
    "checking_account.display_info()"
   ]
  },
  {
   "cell_type": "code",
   "execution_count": null,
   "id": "d756cc51",
   "metadata": {},
   "outputs": [],
   "source": []
  }
 ],
 "metadata": {
  "kernelspec": {
   "display_name": "Python 3 (ipykernel)",
   "language": "python",
   "name": "python3"
  },
  "language_info": {
   "codemirror_mode": {
    "name": "ipython",
    "version": 3
   },
   "file_extension": ".py",
   "mimetype": "text/x-python",
   "name": "python",
   "nbconvert_exporter": "python",
   "pygments_lexer": "ipython3",
   "version": "3.11.4"
  }
 },
 "nbformat": 4,
 "nbformat_minor": 5
}
