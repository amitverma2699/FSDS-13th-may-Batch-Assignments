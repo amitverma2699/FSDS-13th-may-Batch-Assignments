{
 "cells": [
  {
   "cell_type": "markdown",
   "id": "9bffd30d",
   "metadata": {},
   "source": [
    "Question 1"
   ]
  },
  {
   "cell_type": "code",
   "execution_count": null,
   "id": "ae8f9cd3",
   "metadata": {},
   "outputs": [],
   "source": [
    "\"\"\"\n",
    "1. In the below elements which of them are values or an expression? eg:- values can be integer or string and expressions will be mathematical operators.\n",
    "* \n",
    "'hello'\n",
    "-87.8\n",
    "- \n",
    "/ \n",
    "+\t\n",
    "6 \n",
    "\n",
    "\"\"\"\n"
   ]
  },
  {
   "cell_type": "code",
   "execution_count": 3,
   "id": "8394d7a7",
   "metadata": {},
   "outputs": [],
   "source": [
    "#Expression:- *,-,/,+\n",
    "#Values :-'hello',-87.8,6"
   ]
  },
  {
   "cell_type": "markdown",
   "id": "6aa6e01b",
   "metadata": {},
   "source": [
    "Question 2"
   ]
  },
  {
   "cell_type": "code",
   "execution_count": 1,
   "id": "f23eb0df",
   "metadata": {},
   "outputs": [],
   "source": [
    "# 2. What is the difference between string and variable?\n",
    "#strings:- It is a group of character which is store in single quote, double quote, triple quote(it is used for multiline comments).\n",
    "#Variable:- Its stores/assign the element. It has a temperary storage."
   ]
  },
  {
   "cell_type": "code",
   "execution_count": 8,
   "id": "f0964088",
   "metadata": {},
   "outputs": [],
   "source": [
    "#example of string:-\n",
    "a1='amit'\n",
    "a2=\"ineuron\""
   ]
  },
  {
   "cell_type": "code",
   "execution_count": 9,
   "id": "1872059d",
   "metadata": {},
   "outputs": [
    {
     "data": {
      "text/plain": [
       "'amit'"
      ]
     },
     "execution_count": 9,
     "metadata": {},
     "output_type": "execute_result"
    }
   ],
   "source": [
    "a1"
   ]
  },
  {
   "cell_type": "code",
   "execution_count": 10,
   "id": "ee2c6c2b",
   "metadata": {},
   "outputs": [
    {
     "data": {
      "text/plain": [
       "'ineuron'"
      ]
     },
     "execution_count": 10,
     "metadata": {},
     "output_type": "execute_result"
    }
   ],
   "source": [
    "a2"
   ]
  },
  {
   "cell_type": "code",
   "execution_count": 15,
   "id": "d76a5f6a",
   "metadata": {},
   "outputs": [
    {
     "data": {
      "text/plain": [
       "\"\\nI'm Amit\\nI'm Student\\nof Ineuron\\nFSDS Batch\\n\\n\""
      ]
     },
     "execution_count": 15,
     "metadata": {},
     "output_type": "execute_result"
    }
   ],
   "source": [
    "\"\"\"\n",
    "I'm Amit\n",
    "I'm Student\n",
    "of Ineuron\n",
    "FSDS Batch\n",
    "\n",
    "\"\"\""
   ]
  },
  {
   "cell_type": "code",
   "execution_count": 20,
   "id": "f8c05b31",
   "metadata": {},
   "outputs": [
    {
     "name": "stdout",
     "output_type": "stream",
     "text": [
      "100\n"
     ]
    }
   ],
   "source": [
    "#example of Variable:-\n",
    "a=100\n",
    "print(a)"
   ]
  },
  {
   "cell_type": "code",
   "execution_count": 22,
   "id": "aa05a117",
   "metadata": {},
   "outputs": [
    {
     "name": "stdout",
     "output_type": "stream",
     "text": [
      "Hello World\n"
     ]
    }
   ],
   "source": [
    "a=\"Hello World\"\n",
    "print(a)"
   ]
  },
  {
   "cell_type": "markdown",
   "id": "47cd9c68",
   "metadata": {},
   "source": [
    "Question 3"
   ]
  },
  {
   "cell_type": "code",
   "execution_count": 29,
   "id": "4f146947",
   "metadata": {},
   "outputs": [],
   "source": [
    "# 3. Describe three different data types\n",
    "#   1.integer\n",
    "#   2.Float\n",
    "#   3.complex"
   ]
  },
  {
   "cell_type": "code",
   "execution_count": 27,
   "id": "ff5130c9",
   "metadata": {},
   "outputs": [
    {
     "name": "stdout",
     "output_type": "stream",
     "text": [
      "13579\n",
      "<class 'int'>\n"
     ]
    }
   ],
   "source": [
    "a1=13579\n",
    "print(a1)\n",
    "print(type(a1))"
   ]
  },
  {
   "cell_type": "code",
   "execution_count": 28,
   "id": "d8de880a",
   "metadata": {},
   "outputs": [
    {
     "name": "stdout",
     "output_type": "stream",
     "text": [
      "24.54\n",
      "<class 'float'>\n"
     ]
    }
   ],
   "source": [
    "a2=24.54\n",
    "print(a2)\n",
    "print(type(a2))"
   ]
  },
  {
   "cell_type": "code",
   "execution_count": 30,
   "id": "134030d9",
   "metadata": {},
   "outputs": [
    {
     "name": "stdout",
     "output_type": "stream",
     "text": [
      "(4+2j)\n",
      "<class 'complex'>\n"
     ]
    }
   ],
   "source": [
    "a3=4+2j\n",
    "print(a3)\n",
    "print(type(a3))"
   ]
  },
  {
   "cell_type": "markdown",
   "id": "208e8baf",
   "metadata": {},
   "source": [
    "Question 4"
   ]
  },
  {
   "cell_type": "code",
   "execution_count": 1,
   "id": "eea500ed",
   "metadata": {},
   "outputs": [],
   "source": [
    "# 4. What is an expression made up of? What do all expressions do?"
   ]
  },
  {
   "cell_type": "code",
   "execution_count": null,
   "id": "a89f955b",
   "metadata": {},
   "outputs": [],
   "source": [
    "\"\"\"\n",
    "An expression is a combination of operators,\n",
    "constants and variables. An expression may consist of one or more operands,\n",
    "and zero or more operators to produce a value.\n",
    "\"\"\""
   ]
  },
  {
   "cell_type": "markdown",
   "id": "492f614a",
   "metadata": {},
   "source": [
    "Question 5"
   ]
  },
  {
   "cell_type": "code",
   "execution_count": 32,
   "id": "e9b933bc",
   "metadata": {},
   "outputs": [
    {
     "data": {
      "text/plain": [
       "\"\\nIn this question 'spam=10' is statemnet and when it is execute the value will be 10 that is expression.\\n\""
      ]
     },
     "execution_count": 32,
     "metadata": {},
     "output_type": "execute_result"
    }
   ],
   "source": [
    "# 5. This assignment statements, like spam = 10. What is the difference between an expression and a statement?\n",
    "\"\"\"\n",
    "In this question 'spam=10' is statemnet and when it is execute the value will be 10 that is expression.\n",
    "\"\"\""
   ]
  },
  {
   "cell_type": "markdown",
   "id": "38e4ecf1",
   "metadata": {},
   "source": [
    "Question 6"
   ]
  },
  {
   "cell_type": "code",
   "execution_count": 49,
   "id": "30d6479e",
   "metadata": {},
   "outputs": [],
   "source": [
    "# 6. After running the following code, what does the variable bacon contain?\n",
    "#bacon = 22\n",
    "#bacon + 1\n",
    "#answer =23"
   ]
  },
  {
   "cell_type": "code",
   "execution_count": 50,
   "id": "133975ea",
   "metadata": {},
   "outputs": [
    {
     "data": {
      "text/plain": [
       "23"
      ]
     },
     "execution_count": 50,
     "metadata": {},
     "output_type": "execute_result"
    }
   ],
   "source": [
    "bacon = 22\n",
    "bacon + 1"
   ]
  },
  {
   "cell_type": "markdown",
   "id": "146251ac",
   "metadata": {},
   "source": [
    "Question 7"
   ]
  },
  {
   "cell_type": "code",
   "execution_count": 35,
   "id": "7b7a40ae",
   "metadata": {},
   "outputs": [],
   "source": [
    "# 7. What should the values of the following two terms be?\n",
    "#   1.'spam' + 'spamspam'\n",
    "#   2.'spam' * 3"
   ]
  },
  {
   "cell_type": "code",
   "execution_count": 38,
   "id": "224c4395",
   "metadata": {},
   "outputs": [
    {
     "name": "stdout",
     "output_type": "stream",
     "text": [
      "spamspamspam\n"
     ]
    }
   ],
   "source": [
    "#1. \n",
    "s='spam'+'spamspam'\n",
    "print(s)"
   ]
  },
  {
   "cell_type": "code",
   "execution_count": 42,
   "id": "e14ef2ca",
   "metadata": {},
   "outputs": [
    {
     "name": "stdout",
     "output_type": "stream",
     "text": [
      "spamspamspam\n"
     ]
    }
   ],
   "source": [
    "# 2.\n",
    "s2='spam'*3\n",
    "print(s2)"
   ]
  },
  {
   "cell_type": "markdown",
   "id": "36751f56",
   "metadata": {},
   "source": [
    "Both values are same"
   ]
  },
  {
   "cell_type": "markdown",
   "id": "9bfe6c44",
   "metadata": {},
   "source": [
    "Question 8"
   ]
  },
  {
   "cell_type": "code",
   "execution_count": 43,
   "id": "5b8de82f",
   "metadata": {},
   "outputs": [
    {
     "data": {
      "text/plain": [
       "'\\nBecause eggs is a string data type and string can assign \\nas a variable 100 is an integer data type and \\ninteger value cannot assign as a variable\\nso 100 is invalid.\\n'"
      ]
     },
     "execution_count": 43,
     "metadata": {},
     "output_type": "execute_result"
    }
   ],
   "source": [
    "# 8. Why is eggs a valid variable name while 100 is invalid?\n",
    "\n",
    "\"\"\"\n",
    "Because eggs is a string data type and string can assign \n",
    "as a variable 100 is an integer data type and \n",
    "integer value cannot assign as a variable\n",
    "so 100 is invalid.\n",
    "\"\"\""
   ]
  },
  {
   "cell_type": "markdown",
   "id": "fd20f529",
   "metadata": {},
   "source": [
    "Question 9"
   ]
  },
  {
   "cell_type": "code",
   "execution_count": null,
   "id": "37856903",
   "metadata": {},
   "outputs": [],
   "source": [
    "# 9. What three functions can be used to get the integer, floating-point number, or string version of a value?"
   ]
  },
  {
   "cell_type": "code",
   "execution_count": null,
   "id": "6d54092a",
   "metadata": {},
   "outputs": [],
   "source": [
    "# 3 functions are :-\n",
    "integer= int()\n",
    "floating-point number = float()\n",
    "string= str()"
   ]
  },
  {
   "cell_type": "markdown",
   "id": "cae7646b",
   "metadata": {},
   "source": [
    "Question 10"
   ]
  },
  {
   "cell_type": "code",
   "execution_count": 45,
   "id": "66fbaa1d",
   "metadata": {},
   "outputs": [],
   "source": [
    "# 10. Why does this expression cause an error? How can you fix it?\n",
    "# 'I have eaten ' + 99 + ' burritos.'\n",
    "\n",
    "\n",
    "\"because string and integer cannot cancatenate each other \""
   ]
  },
  {
   "cell_type": "code",
   "execution_count": 48,
   "id": "77081e23",
   "metadata": {},
   "outputs": [
    {
     "data": {
      "text/plain": [
       "'I have eaten 99 burritos.'"
      ]
     },
     "execution_count": 48,
     "metadata": {},
     "output_type": "execute_result"
    }
   ],
   "source": [
    "# how to fix it \n",
    "'I have eaten ' + str(99) + ' burritos.'"
   ]
  }
 ],
 "metadata": {
  "kernelspec": {
   "display_name": "Python 3 (ipykernel)",
   "language": "python",
   "name": "python3"
  },
  "language_info": {
   "codemirror_mode": {
    "name": "ipython",
    "version": 3
   },
   "file_extension": ".py",
   "mimetype": "text/x-python",
   "name": "python",
   "nbconvert_exporter": "python",
   "pygments_lexer": "ipython3",
   "version": "3.10.9"
  }
 },
 "nbformat": 4,
 "nbformat_minor": 5
}
