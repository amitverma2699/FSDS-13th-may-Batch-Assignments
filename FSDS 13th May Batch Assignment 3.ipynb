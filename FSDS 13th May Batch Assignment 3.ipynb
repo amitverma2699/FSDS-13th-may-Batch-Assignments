{
 "cells": [
  {
   "cell_type": "markdown",
   "id": "f8be6dcf",
   "metadata": {},
   "source": [
    "Question 1. Why are functions advantageous to have in your programs?\n",
    "\n",
    "Ans.Functions reduce the need for duplicate code. This makes programs shorter, easier to read, and easier to update. The main advantage of functions is code Reusability."
   ]
  },
  {
   "cell_type": "markdown",
   "id": "dce479f9",
   "metadata": {},
   "source": [
    " "
   ]
  },
  {
   "cell_type": "markdown",
   "id": "c538d6a9",
   "metadata": {},
   "source": [
    "Question 2. When does the code in a function run: when it's specified or when it's called?\n",
    "\n",
    "Ans. The code in a function executes when the function is called, not when the function is specified."
   ]
  },
  {
   "cell_type": "markdown",
   "id": "84d9084f",
   "metadata": {},
   "source": [
    " "
   ]
  },
  {
   "cell_type": "markdown",
   "id": "9c8c5a1e",
   "metadata": {},
   "source": [
    "Question 3. What statement creates a function?\n",
    "\n",
    "Ans. The def function define a function,"
   ]
  },
  {
   "cell_type": "markdown",
   "id": "0c1b9661",
   "metadata": {},
   "source": [
    " "
   ]
  },
  {
   "cell_type": "markdown",
   "id": "cceb7fed",
   "metadata": {},
   "source": [
    "Question 4. What is the difference between a function and a function call?\n",
    "\n",
    "Ans. A function is procedure to achieve a particular result. while function call is using this function to achive that task. Using a function to do a particular task any point in program is called as function call."
   ]
  },
  {
   "cell_type": "markdown",
   "id": "40e3adf0",
   "metadata": {},
   "source": [
    " "
   ]
  },
  {
   "cell_type": "markdown",
   "id": "fb83ead1",
   "metadata": {},
   "source": [
    "Question 5. How many global scopes are there in a Python program? How many local scopes?\n",
    "\n",
    "Ans. There is one global scope, and a local scope is created whenever a function is called."
   ]
  },
  {
   "cell_type": "markdown",
   "id": "5a944bb1",
   "metadata": {},
   "source": [
    " "
   ]
  },
  {
   "cell_type": "markdown",
   "id": "0ab27c4d",
   "metadata": {},
   "source": [
    "Question 6. What happens to variables in a local scope when the function call returns?\n",
    "\n",
    "Ans. When a function returns, the local scope is destroyed, and all the variables in it are forgotten."
   ]
  },
  {
   "cell_type": "markdown",
   "id": "a09029a9",
   "metadata": {},
   "source": [
    " "
   ]
  },
  {
   "cell_type": "markdown",
   "id": "1c0c6371",
   "metadata": {},
   "source": [
    "Question 7. What is the concept of a return value? Is it possible to have a return value in an expression?\n",
    "\n",
    "Ans. A return value is the value that a function call evaluates to. Like any value, a return value can be used as part of an expression."
   ]
  },
  {
   "cell_type": "markdown",
   "id": "984d5fa7",
   "metadata": {},
   "source": [
    " "
   ]
  },
  {
   "cell_type": "markdown",
   "id": "df56cef0",
   "metadata": {},
   "source": [
    "Question 8.  If a function does not have a return statement, what is the return value of a call to that function?\n",
    "\n",
    "Ans. Its return value is None."
   ]
  },
  {
   "cell_type": "markdown",
   "id": "d46bfc95",
   "metadata": {},
   "source": [
    " "
   ]
  },
  {
   "cell_type": "markdown",
   "id": "f96d1e1d",
   "metadata": {},
   "source": [
    "Question 9. How do you make a function variable refer to the global variable?\n",
    "\n",
    "Ans. A global statement will force a variable in a function to refer to the global variable. If you want to refer to a global variable in a function, you can use the global keyword to declare which variables are global."
   ]
  },
  {
   "cell_type": "markdown",
   "id": "76264e13",
   "metadata": {},
   "source": [
    " "
   ]
  },
  {
   "cell_type": "markdown",
   "id": "36609ca3",
   "metadata": {},
   "source": [
    "Question 10. What is the data type of None?\n",
    "\n",
    "Ans. The data type of None is NoneType."
   ]
  },
  {
   "cell_type": "markdown",
   "id": "b845ab51",
   "metadata": {},
   "source": [
    " "
   ]
  },
  {
   "cell_type": "markdown",
   "id": "a568411d",
   "metadata": {},
   "source": [
    "Question 11. What does the sentence import areallyourpetsnamederic do?\n",
    "\n",
    "Ans. That import statement imports a module named areallyourpetsnamederic."
   ]
  },
  {
   "cell_type": "markdown",
   "id": "e727cedf",
   "metadata": {},
   "source": [
    " "
   ]
  },
  {
   "cell_type": "markdown",
   "id": "f16af8d3",
   "metadata": {},
   "source": [
    "Question 12. If you had a bacon() feature in a spam module, what would you call it after importing spam?\n",
    "\n",
    "Ans. This function can be called with spam.bacon()."
   ]
  },
  {
   "cell_type": "markdown",
   "id": "7a34785d",
   "metadata": {},
   "source": [
    " "
   ]
  },
  {
   "cell_type": "markdown",
   "id": "d67e75b3",
   "metadata": {},
   "source": [
    "Question 13. What can you do to save a programme from crashing if it encounters an error?\n",
    "\n",
    "Ans. Place the line of code that might cause an error in a try clause and use except block to handle the error."
   ]
  },
  {
   "cell_type": "markdown",
   "id": "fdaecad3",
   "metadata": {},
   "source": [
    " "
   ]
  },
  {
   "cell_type": "markdown",
   "id": "cd4227f1",
   "metadata": {},
   "source": [
    "Question 14. What is the purpose of the try clause? What is the purpose of the except clause?\n",
    "\n",
    "Ans. The try block use to test a block of code for errors. The except block use to handle the error."
   ]
  }
 ],
 "metadata": {
  "kernelspec": {
   "display_name": "Python 3 (ipykernel)",
   "language": "python",
   "name": "python3"
  },
  "language_info": {
   "codemirror_mode": {
    "name": "ipython",
    "version": 3
   },
   "file_extension": ".py",
   "mimetype": "text/x-python",
   "name": "python",
   "nbconvert_exporter": "python",
   "pygments_lexer": "ipython3",
   "version": "3.11.4"
  }
 },
 "nbformat": 4,
 "nbformat_minor": 5
}
