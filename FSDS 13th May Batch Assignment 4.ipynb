{
 "cells": [
  {
   "cell_type": "markdown",
   "id": "12bc7f67",
   "metadata": {},
   "source": [
    "Question 1. What exactly is [] ?\n",
    "\n",
    "Ans.  [] :- This is square bracket and in python this is empty List "
   ]
  },
  {
   "cell_type": "markdown",
   "id": "e52db3e5",
   "metadata": {},
   "source": [
    "Question 2. In a list of values stored in a variable called spam, how would you assign the value 'hello' as the third value? (Assume [2, 4, 6, 8, 10] are in spam.)"
   ]
  },
  {
   "cell_type": "code",
   "execution_count": 2,
   "id": "7784db42",
   "metadata": {},
   "outputs": [
    {
     "name": "stdout",
     "output_type": "stream",
     "text": [
      "[2, 4, 'hello', 6, 8, 10]\n"
     ]
    }
   ],
   "source": [
    "# Ans.\n",
    "spam =[2,4,6,8,10]\n",
    "spam.insert(2,'hello')\n",
    "print(spam)"
   ]
  },
  {
   "cell_type": "markdown",
   "id": "5bba275f",
   "metadata": {},
   "source": [
    "Let's pretend the spam includes the list ['a', 'b', 'c', 'd'] for the next three queries."
   ]
  },
  {
   "cell_type": "markdown",
   "id": "1c94fd61",
   "metadata": {},
   "source": [
    "Question 3. What is the value of spam[int(int('3' * 2) / 11)]?"
   ]
  },
  {
   "cell_type": "code",
   "execution_count": 4,
   "id": "dd584de9",
   "metadata": {},
   "outputs": [
    {
     "data": {
      "text/plain": [
       "'d'"
      ]
     },
     "execution_count": 4,
     "metadata": {},
     "output_type": "execute_result"
    }
   ],
   "source": [
    "#Ans.\n",
    "spam=['a','b','c','d']\n",
    "spam[int(int('3'*2)/11)]"
   ]
  },
  {
   "cell_type": "markdown",
   "id": "1c4712bb",
   "metadata": {},
   "source": [
    "Question 4. What is the value of spam[-1]?"
   ]
  },
  {
   "cell_type": "code",
   "execution_count": 5,
   "id": "bb054ebe",
   "metadata": {},
   "outputs": [
    {
     "data": {
      "text/plain": [
       "'d'"
      ]
     },
     "execution_count": 5,
     "metadata": {},
     "output_type": "execute_result"
    }
   ],
   "source": [
    "#Ans.\n",
    "spam[-1]"
   ]
  },
  {
   "cell_type": "markdown",
   "id": "55b1aa44",
   "metadata": {},
   "source": [
    "Question 5. What is the value of spam[:2]?"
   ]
  },
  {
   "cell_type": "code",
   "execution_count": 6,
   "id": "35e1aa3f",
   "metadata": {},
   "outputs": [
    {
     "data": {
      "text/plain": [
       "['a', 'b']"
      ]
     },
     "execution_count": 6,
     "metadata": {},
     "output_type": "execute_result"
    }
   ],
   "source": [
    "spam[:2]"
   ]
  },
  {
   "cell_type": "markdown",
   "id": "1592d217",
   "metadata": {},
   "source": [
    "Let's pretend bacon has the list [3.14, 'cat,' 11, 'cat,' True] for the next three questions."
   ]
  },
  {
   "cell_type": "markdown",
   "id": "b72a0879",
   "metadata": {},
   "source": [
    "Question 6. What is the value of bacon.index('cat')?"
   ]
  },
  {
   "cell_type": "code",
   "execution_count": 9,
   "id": "9183a59b",
   "metadata": {},
   "outputs": [
    {
     "data": {
      "text/plain": [
       "1"
      ]
     },
     "execution_count": 9,
     "metadata": {},
     "output_type": "execute_result"
    }
   ],
   "source": [
    "#Ans.\n",
    "bacon=[3.14, 'cat', 11, 'cat', True]\n",
    "bacon.index('cat') # it is showing first 'cat' index."
   ]
  },
  {
   "cell_type": "markdown",
   "id": "1b870b49",
   "metadata": {},
   "source": [
    "Question 7. How does bacon.append(99) change the look of the list value in bacon?"
   ]
  },
  {
   "cell_type": "code",
   "execution_count": 10,
   "id": "b5273beb",
   "metadata": {},
   "outputs": [],
   "source": [
    "#Ans.\n",
    "bacon.append(99) # 99 is added into the list"
   ]
  },
  {
   "cell_type": "code",
   "execution_count": 11,
   "id": "d6806b1e",
   "metadata": {},
   "outputs": [
    {
     "name": "stdout",
     "output_type": "stream",
     "text": [
      "[3.14, 'cat', 11, 'cat', True, 99]\n"
     ]
    }
   ],
   "source": [
    "print(bacon)"
   ]
  },
  {
   "cell_type": "markdown",
   "id": "e469c592",
   "metadata": {},
   "source": [
    "Question 8. How does bacon.remove('cat') change the look of the list in bacon? "
   ]
  },
  {
   "cell_type": "code",
   "execution_count": 12,
   "id": "b451202f",
   "metadata": {},
   "outputs": [],
   "source": [
    "#Ans.\n",
    "bacon.remove('cat') # it is remove first 'cat' into the list"
   ]
  },
  {
   "cell_type": "code",
   "execution_count": 13,
   "id": "144b25c0",
   "metadata": {},
   "outputs": [
    {
     "name": "stdout",
     "output_type": "stream",
     "text": [
      "[3.14, 11, 'cat', True, 99]\n"
     ]
    }
   ],
   "source": [
    "print(bacon)"
   ]
  },
  {
   "cell_type": "raw",
   "id": "54bcbcfa",
   "metadata": {},
   "source": [
    "Question 9. What are the list concatenation and list replication operators?\n",
    "\n",
    "Ans. list concatenation :- ( + ) is list concatination operator\n",
    "     list replication :- ( * ) is list replication operator "
   ]
  },
  {
   "cell_type": "code",
   "execution_count": 18,
   "id": "4225c424",
   "metadata": {},
   "outputs": [
    {
     "name": "stdout",
     "output_type": "stream",
     "text": [
      "list Concatenation:- [10, 20, 30, 40]\n",
      "list Replication:- [10, 20, 10, 20]\n"
     ]
    }
   ],
   "source": [
    "# Ans 9. Example:-\n",
    "l1=[10,20]\n",
    "l2=[30,40]\n",
    "# list Concatenation\n",
    "l=l1+l2\n",
    "print(\"list Concatenation:-\",l)\n",
    "\n",
    "#list Replication \n",
    "l3= l1*2\n",
    "print(\"list Replication:-\",l3)"
   ]
  },
  {
   "cell_type": "raw",
   "id": "b70ead76",
   "metadata": {},
   "source": [
    "Question 10. What is difference between the list methods append() and insert()?\n",
    "\n",
    "Ans. append() :- it can add the element at the end of the list.\n",
    "     insert() :- it can add the element anywhere in the list using indexing."
   ]
  },
  {
   "cell_type": "code",
   "execution_count": 19,
   "id": "a62f2844",
   "metadata": {},
   "outputs": [],
   "source": [
    "# append()\n",
    "l1=[10,20,30,40,50]"
   ]
  },
  {
   "cell_type": "code",
   "execution_count": 20,
   "id": "98d18722",
   "metadata": {},
   "outputs": [
    {
     "name": "stdout",
     "output_type": "stream",
     "text": [
      "[10, 20, 30, 40, 50, 60]\n"
     ]
    }
   ],
   "source": [
    "l1.append(60)\n",
    "print(l1)"
   ]
  },
  {
   "cell_type": "code",
   "execution_count": 21,
   "id": "4455376f",
   "metadata": {},
   "outputs": [],
   "source": [
    "# insert()\n",
    "l1=[10,20,30,40,50]\n",
    "l1.insert(3,25) # where 3 is index position in the list."
   ]
  },
  {
   "cell_type": "code",
   "execution_count": 22,
   "id": "8703d061",
   "metadata": {},
   "outputs": [
    {
     "name": "stdout",
     "output_type": "stream",
     "text": [
      "[10, 20, 30, 25, 40, 50]\n"
     ]
    }
   ],
   "source": [
    "print(l1)"
   ]
  },
  {
   "cell_type": "raw",
   "id": "91e1e692",
   "metadata": {},
   "source": [
    "Question 11. What are the two methods for removing items from a list?\n",
    "\n",
    "Ans. 1) pop()\n",
    "     2) remove()"
   ]
  },
  {
   "cell_type": "raw",
   "id": "38a454a4",
   "metadata": {},
   "source": [
    "Question 12. Describe how list values and string values are identical.\n",
    "\n",
    "Ans. a.) both are used in for loop\n",
    "     b.) both can be caoncatenated and replicated\n",
    "     c.) both can be passed to len()\n",
    "     d.) both can be used with the in and not in operators\n",
    "     e.) both have indexes and slices"
   ]
  },
  {
   "cell_type": "raw",
   "id": "0617b88b",
   "metadata": {},
   "source": [
    "Question 13. What's the difference between tuples and lists?\n",
    "\n",
    "Ans. List:- It is mutable.They can change the values. it use square bracket [] .\n",
    "     Tuples :- It is immutable.They can't change the values. it use round bracket(parenthesis) () ."
   ]
  },
  {
   "cell_type": "markdown",
   "id": "158a1101",
   "metadata": {},
   "source": [
    "Question 14. How do you type a tuple value that only contains the integer 42?"
   ]
  },
  {
   "cell_type": "code",
   "execution_count": 25,
   "id": "a912be43",
   "metadata": {},
   "outputs": [
    {
     "name": "stdout",
     "output_type": "stream",
     "text": [
      "42\n"
     ]
    }
   ],
   "source": [
    "t1=(42)\n",
    "print(t1)"
   ]
  },
  {
   "cell_type": "markdown",
   "id": "2a7e276a",
   "metadata": {},
   "source": [
    "Question 15. How do you get a list value's tuple form? How do you get a tuple value's list form?"
   ]
  },
  {
   "cell_type": "code",
   "execution_count": 26,
   "id": "d945aef0",
   "metadata": {},
   "outputs": [
    {
     "name": "stdout",
     "output_type": "stream",
     "text": [
      "(1, 2, 3, 4)\n"
     ]
    }
   ],
   "source": [
    "#Ans. 1.) this tuple form\n",
    "l=[1,2,3,4]\n",
    "l1=tuple(l)\n",
    "print(l1)"
   ]
  },
  {
   "cell_type": "code",
   "execution_count": 27,
   "id": "91f9c788",
   "metadata": {},
   "outputs": [
    {
     "name": "stdout",
     "output_type": "stream",
     "text": [
      "[5, 6, 7, 8]\n"
     ]
    }
   ],
   "source": [
    "# 2.) this is list form\n",
    "tup=(5,6,7,8)\n",
    "t2=list(tup)\n",
    "print(t2)"
   ]
  },
  {
   "cell_type": "markdown",
   "id": "4590b702",
   "metadata": {},
   "source": [
    "Question 16. Variables that \"contain\" list values are not necessarily lists themselves. Instead, what do they contain?\n",
    "\n",
    "Ans. They contain references to list values"
   ]
  },
  {
   "cell_type": "raw",
   "id": "409a805a",
   "metadata": {},
   "source": [
    "Question 17. How do you distinguish between copy.copy() and copy.deepcopy()?\n",
    "\n",
    "Ans.  copy.copy() :- function will do a shallow copy of a list,\n",
    "      copy.deepcopy() :- function will do a deep copy of a list. only copy.deepcopy() will duplicate any lists inside list."
   ]
  },
  {
   "cell_type": "code",
   "execution_count": null,
   "id": "6c184efe",
   "metadata": {},
   "outputs": [],
   "source": []
  }
 ],
 "metadata": {
  "kernelspec": {
   "display_name": "Python 3 (ipykernel)",
   "language": "python",
   "name": "python3"
  },
  "language_info": {
   "codemirror_mode": {
    "name": "ipython",
    "version": 3
   },
   "file_extension": ".py",
   "mimetype": "text/x-python",
   "name": "python",
   "nbconvert_exporter": "python",
   "pygments_lexer": "ipython3",
   "version": "3.10.9"
  }
 },
 "nbformat": 4,
 "nbformat_minor": 5
}
