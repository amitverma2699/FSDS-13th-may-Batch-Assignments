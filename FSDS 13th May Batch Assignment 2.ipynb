{
 "cells": [
  {
   "cell_type": "markdown",
   "id": "7a46061a",
   "metadata": {},
   "source": [
    "Question 1.What are the two values of the Boolean data type? How do you write them?"
   ]
  },
  {
   "cell_type": "markdown",
   "id": "bc10f036",
   "metadata": {},
   "source": [
    "Ans. True,False"
   ]
  },
  {
   "cell_type": "markdown",
   "id": "9d346d16",
   "metadata": {},
   "source": [
    "Question 2. What are the three different types of Boolean operators?"
   ]
  },
  {
   "cell_type": "markdown",
   "id": "fa4351e8",
   "metadata": {},
   "source": [
    "Ans. There are 3 Types of Boolean Operators:-\n",
    "1.AND\n",
    "2.OR\n",
    "3.NOT"
   ]
  },
  {
   "cell_type": "markdown",
   "id": "369291c7",
   "metadata": {},
   "source": [
    "Question 3. Make a list of each Boolean operator's truth tables (i.e. every possible combination of Boolean values for the operator and what it evaluate )."
   ]
  },
  {
   "cell_type": "markdown",
   "id": "8cd35d74",
   "metadata": {},
   "source": [
    "Ans."
   ]
  },
  {
   "cell_type": "markdown",
   "id": "587eb4f6",
   "metadata": {},
   "source": [
    "    And :-"
   ]
  },
  {
   "cell_type": "markdown",
   "id": "eceda119",
   "metadata": {},
   "source": [
    "True and True is True\n",
    "\n",
    "True and False is False\n",
    "\n",
    "False and True is False\n",
    "\n",
    "False and False is False"
   ]
  },
  {
   "cell_type": "markdown",
   "id": "1bd2589c",
   "metadata": {},
   "source": [
    "    OR :-"
   ]
  },
  {
   "cell_type": "markdown",
   "id": "746fb1aa",
   "metadata": {},
   "source": [
    "True or True is True\n",
    "\n",
    "True or False is True\n",
    "\n",
    "False or True is True\n",
    "\n",
    "False or False is False"
   ]
  },
  {
   "cell_type": "markdown",
   "id": "4ca6086e",
   "metadata": {},
   "source": [
    "    NOT :-"
   ]
  },
  {
   "cell_type": "markdown",
   "id": "0f001f58",
   "metadata": {},
   "source": [
    "not True is False\n",
    "\n",
    "not False is True"
   ]
  },
  {
   "cell_type": "markdown",
   "id": "4ee2d4d1",
   "metadata": {},
   "source": [
    "Question 4. What are the values of the following expressions?"
   ]
  },
  {
   "cell_type": "code",
   "execution_count": 27,
   "id": "2dde0b92",
   "metadata": {},
   "outputs": [
    {
     "name": "stdout",
     "output_type": "stream",
     "text": [
      "False\n",
      "False\n",
      "True\n",
      "False\n",
      "False\n",
      "True\n"
     ]
    }
   ],
   "source": [
    "print((5 > 4) and (3 == 5))\n",
    "print(not (5 > 4))\n",
    "print((5 > 4) or (3 == 5))\n",
    "print(not ((5 > 4) or (3 == 5)))\n",
    "print((True and True) and (True == False))\n",
    "print((not False) or (not True))"
   ]
  },
  {
   "cell_type": "markdown",
   "id": "fa06d44e",
   "metadata": {},
   "source": [
    "Question 5. What are the six comparison operators?"
   ]
  },
  {
   "cell_type": "markdown",
   "id": "290f2f07",
   "metadata": {},
   "source": [
    "Ans. < , > , <= , >= , == , !="
   ]
  },
  {
   "cell_type": "markdown",
   "id": "14dfcf93",
   "metadata": {},
   "source": [
    "Question 6. How do you tell the difference between the equal to and assignment operators?Describe a condition and when you would use one."
   ]
  },
  {
   "cell_type": "markdown",
   "id": "07e47afe",
   "metadata": {},
   "source": [
    "Ans. equal to(==) operator is used to compare two values and assignment (=)operator is used to assign the variable "
   ]
  },
  {
   "cell_type": "code",
   "execution_count": 31,
   "id": "4c15ebf3",
   "metadata": {},
   "outputs": [
    {
     "name": "stdout",
     "output_type": "stream",
     "text": [
      "False\n",
      "30\n"
     ]
    }
   ],
   "source": [
    "#example:-\n",
    "#use of == \n",
    "print(10==20)\n",
    "#use of =\n",
    "a=30\n",
    "print(a)"
   ]
  },
  {
   "cell_type": "markdown",
   "id": "86754907",
   "metadata": {},
   "source": [
    "Question 7. Identify the three blocks in this code:"
   ]
  },
  {
   "cell_type": "code",
   "execution_count": null,
   "id": "78879f99",
   "metadata": {},
   "outputs": [],
   "source": [
    "\"\"\"spam = 0\n",
    "if spam == 10:\n",
    "print('eggs')\n",
    "if spam > 5:\n",
    "print('bacon')\n",
    "else:\n",
    "print('ham')\n",
    "print('spam')\n",
    "print('spam')\n",
    "\"\"\""
   ]
  },
  {
   "cell_type": "code",
   "execution_count": 36,
   "id": "a26168e9",
   "metadata": {},
   "outputs": [
    {
     "name": "stdout",
     "output_type": "stream",
     "text": [
      "ham\n",
      "spam\n",
      "spam\n"
     ]
    }
   ],
   "source": [
    "# Ans.\n",
    "spam = 0\n",
    "if spam == 10:\n",
    "    print('eggs')   #Block1\n",
    "if spam > 5:\n",
    "    print('bacon')  #Block2\n",
    "else:\n",
    "    print('ham')    #Block3\n",
    "    print('spam')\n",
    "    print('spam')"
   ]
  },
  {
   "cell_type": "markdown",
   "id": "0c087150",
   "metadata": {},
   "source": [
    "Question 8. Write code that prints Hello if 1 is stored in spam, prints Howdy if 2 is stored in spam, and prints Greetings! if anything else is stored in spam."
   ]
  },
  {
   "cell_type": "code",
   "execution_count": 3,
   "id": "4bcd7b51",
   "metadata": {},
   "outputs": [
    {
     "name": "stdout",
     "output_type": "stream",
     "text": [
      "Enter the Value :- 2\n",
      "Howdy\n"
     ]
    }
   ],
   "source": [
    "#Ans.\n",
    "spam = int(input(\"Enter the Value :- \"))\n",
    "if spam==1:\n",
    "    print('Hello')\n",
    "elif spam==2:\n",
    "    print('Howdy')\n",
    "else:\n",
    "    print('Greetings!')"
   ]
  },
  {
   "cell_type": "markdown",
   "id": "29258a25",
   "metadata": {},
   "source": [
    "Question 9. If your programme is stuck in an endless loop, what keys you’ll press?"
   ]
  },
  {
   "cell_type": "markdown",
   "id": "fdc101dd",
   "metadata": {},
   "source": [
    "Ans. ctrl+c"
   ]
  },
  {
   "cell_type": "markdown",
   "id": "37c0591d",
   "metadata": {},
   "source": [
    "Question 10. How can you tell the difference between break and continue?"
   ]
  },
  {
   "cell_type": "markdown",
   "id": "c5b3304e",
   "metadata": {},
   "source": [
    "Ans . The break statement will move the execution outside and just after a loop. The continue statement will move the execution to the start of the loop"
   ]
  },
  {
   "cell_type": "markdown",
   "id": "405f7b6b",
   "metadata": {},
   "source": [
    "Question 11. In a for loop, what is the difference between range(10), range(0, 10), and range(0, 10, 1)?"
   ]
  },
  {
   "cell_type": "code",
   "execution_count": 2,
   "id": "5f4643d1",
   "metadata": {},
   "outputs": [
    {
     "name": "stdout",
     "output_type": "stream",
     "text": [
      "0\n",
      "1\n",
      "2\n",
      "3\n",
      "4\n",
      "5\n",
      "6\n",
      "7\n",
      "8\n",
      "9\n",
      "______________\n",
      "0\n",
      "1\n",
      "2\n",
      "3\n",
      "4\n",
      "5\n",
      "6\n",
      "7\n",
      "8\n",
      "9\n",
      "______________\n",
      "0\n",
      "1\n",
      "2\n",
      "3\n",
      "4\n",
      "5\n",
      "6\n",
      "7\n",
      "8\n",
      "9\n"
     ]
    }
   ],
   "source": [
    "for i in range(10):\n",
    "    print(i)\n",
    "print(\"______________\") \n",
    "for i in range(0,10):\n",
    "    print(i)\n",
    "print(\"______________\")\n",
    "for i in range(0,10,1):\n",
    "    print(i)"
   ]
  },
  {
   "cell_type": "markdown",
   "id": "bcd32807",
   "metadata": {},
   "source": [
    "From the above output we can conclude that they all do the same thing. \n",
    "The range(10) call ranges from 0 up to (but not including) 10, \n",
    "range(0, 10) tells the loop to start at 0, and range(0, 10, 1) \n",
    "tells the loop to increase the variable by 1 on each iteration."
   ]
  },
  {
   "cell_type": "markdown",
   "id": "4955e2b0",
   "metadata": {},
   "source": [
    "Question 12. Write a short program that prints the numbers 1 to 10 using a for loop. Then write an equivalent program that prints the numbers 1 to 10 using a while loop."
   ]
  },
  {
   "cell_type": "code",
   "execution_count": 2,
   "id": "b156a7f1",
   "metadata": {},
   "outputs": [
    {
     "name": "stdout",
     "output_type": "stream",
     "text": [
      "1\n",
      "2\n",
      "3\n",
      "4\n",
      "5\n",
      "6\n",
      "7\n",
      "8\n",
      "9\n",
      "10\n"
     ]
    }
   ],
   "source": [
    "# Ans.\n",
    "# for loop\n",
    "for i in range(1,11):\n",
    "    print(i)"
   ]
  },
  {
   "cell_type": "code",
   "execution_count": 1,
   "id": "b4ade16c",
   "metadata": {},
   "outputs": [
    {
     "name": "stdout",
     "output_type": "stream",
     "text": [
      "1\n",
      "2\n",
      "3\n",
      "4\n",
      "5\n",
      "6\n",
      "7\n",
      "8\n",
      "9\n",
      "10\n"
     ]
    }
   ],
   "source": [
    "# While Loop\n",
    "a=1\n",
    "b=10\n",
    "while a<=b:\n",
    "    print(a)\n",
    "    a=a+1"
   ]
  },
  {
   "cell_type": "markdown",
   "id": "32eda8bd",
   "metadata": {},
   "source": [
    "13. If you had a function named bacon() inside a module named spam, how would you call it after importing spam?"
   ]
  },
  {
   "cell_type": "markdown",
   "id": "496eab76",
   "metadata": {},
   "source": [
    "Ans. spam.bacon()"
   ]
  }
 ],
 "metadata": {
  "kernelspec": {
   "display_name": "Python 3 (ipykernel)",
   "language": "python",
   "name": "python3"
  },
  "language_info": {
   "codemirror_mode": {
    "name": "ipython",
    "version": 3
   },
   "file_extension": ".py",
   "mimetype": "text/x-python",
   "name": "python",
   "nbconvert_exporter": "python",
   "pygments_lexer": "ipython3",
   "version": "3.10.9"
  }
 },
 "nbformat": 4,
 "nbformat_minor": 5
}
